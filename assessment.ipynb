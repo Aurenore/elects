{
 "cells": [
  {
   "cell_type": "markdown",
   "metadata": {},
   "source": [
    "1."
   ]
  },
  {
   "cell_type": "code",
   "execution_count": 1,
   "metadata": {},
   "outputs": [],
   "source": [
    "# compute the min_x \\sum_i=1^n |x - a_i|\n",
    "# where a_i are integers\n",
    "# the solution is the median of a_i\n",
    "# if n is odd, the median is a_i[n//2]\n",
    "# if n is even, the median is a_i[n//2-1] or a_i[n//2]\n",
    "\n",
    "def median(a):\n",
    "    n = len(a)\n",
    "    a.sort()\n",
    "    if n % 2 == 1:\n",
    "        return a[n//2]\n",
    "    else:\n",
    "        return a[n//2-1], a[n//2]\n",
    "\n",
    "def test_median():\n",
    "    a = [1, 2, 3, 4, 5]\n",
    "    assert median(a) == 3\n",
    "    a = [1, 2, 3, 4]\n",
    "    assert median(a) == (2, 3)\n",
    "\n",
    "def min_sum(a):\n",
    "    m = median(a)\n",
    "    return sum(abs(x - m) for x in a)"
   ]
  },
  {
   "cell_type": "code",
   "execution_count": null,
   "metadata": {},
   "outputs": [],
   "source": [
    "10\n",
    "10\n",
    "20\n",
    "30\n",
    "40\n",
    "50\n",
    "51\n",
    "52\n",
    "53\n",
    "54\n",
    "55\n"
   ]
  },
  {
   "cell_type": "markdown",
   "metadata": {},
   "source": [
    "2."
   ]
  },
  {
   "cell_type": "code",
   "execution_count": null,
   "metadata": {},
   "outputs": [],
   "source": [
    "# given df a dataframe with columns ['school_id', 'state_code', 'subjects'], remove rows with 'subjects' that have less than 3 words in it \n",
    "def remove_short_subjects(df):\n",
    "    return df[df['subjects'].apply(lambda x: len(x.split()) >= 3)]\n"
   ]
  },
  {
   "cell_type": "code",
   "execution_count": null,
   "metadata": {},
   "outputs": [],
   "source": [
    "# clean the 'state_code' column by only keepnig alpha_numeric characters\n",
    "def clean_state_code(df):\n",
    "    return df['state_code'].apply(lambda x: ''.join([c for c in x if c.isalnum()]))"
   ]
  },
  {
   "cell_type": "code",
   "execution_count": null,
   "metadata": {},
   "outputs": [],
   "source": [
    "# for each state in 'state_code', return a dataframe with column \"state_code\", \"English\", \"Maths\", \"Physics\", \"Chemistry\", and the number of schools offering the subject\n",
    "def count_subjects(df):\n",
    "    subjects_columns = [\"english\", \"maths\", \"chemistry\", \"physics\"]\n",
    "    \n",
    "    # create columns for each subject in subjects_columns, and fill with 0 if the subject is not in the subjects column, otherwise fill with 1\n",
    "    for subject in subjects_columns:\n",
    "        df[subject] = df['subjects'].apply(lambda x: 1 if subject in x.lower() else 0)\n",
    "    # groupby state_code and sum the number of schools offering each subject\n",
    "    df = df.groupby('state_code').sum().reset_index()\n",
    "    return df"
   ]
  },
  {
   "cell_type": "markdown",
   "metadata": {},
   "source": [
    "3.\n"
   ]
  },
  {
   "cell_type": "code",
   "execution_count": null,
   "metadata": {},
   "outputs": [],
   "source": [
    "# from g_from and g_to list corresponding to pairs of edges of an undirected graph, return a dictionary with key as node and values a list of the connected nodes. \n",
    "\n",
    "def graph(g_from, g_to):\n",
    "    graph = {}\n",
    "    for i in range(len(g_from)):\n",
    "        if g_from[i] not in graph:\n",
    "            graph[g_from[i]] = []\n",
    "        graph[g_from[i]].append(g_to[i])\n",
    "        if g_to[i] not in graph:\n",
    "            graph[g_to[i]] = []\n",
    "        graph[g_to[i]].append(g_from[i])\n",
    "    return graph"
   ]
  },
  {
   "cell_type": "markdown",
   "metadata": {},
   "source": [
    "4."
   ]
  },
  {
   "cell_type": "code",
   "execution_count": null,
   "metadata": {},
   "outputs": [],
   "source": [
    "# define a new class called \"Group\" with the following arguements: company (int), friends (list of int), and method: \"add_friend\" that adds a friend to the list of friends\n",
    "class Group:\n",
    "    def __init__(self, company, friends):\n",
    "        self.company = company\n",
    "        self.friends = friends\n",
    "\n",
    "    def add_friend(self, friend):\n",
    "        self.friends.append(friend)\n",
    "\n",
    "    def check_friend_presence(self, my_friend):\n",
    "        return my_friend in self.friends\n",
    "        "
   ]
  },
  {
   "cell_type": "code",
   "execution_count": null,
   "metadata": {},
   "outputs": [],
   "source": [
    "# we have two lists: friends_from and friends_to. Each friend in friends_from is associated to its corresponding index in friends_to and company in companies\n",
    "# sort friends_from and friends_to such that friends_from contains the smallest friend and friends_to contains the largest friend\n",
    "# companies should also be sorted with the same order as friends_from \n",
    "\n",
    "def sort_friends(friends_from, friends_to, companies):\n",
    "    sorted_index = sorted(range(len(friends_from)), key=lambda x: friends_from[x])\n",
    "    friends_from = [friends_from[i] for i in sorted_index]\n",
    "    friends_to = [friends_to[i] for i in sorted_index]\n",
    "    companies = [companies[i] for i in sorted_index]\n",
    "    return friends_from, friends_to, companies"
   ]
  }
 ],
 "metadata": {
  "kernelspec": {
   "display_name": "venv",
   "language": "python",
   "name": "python3"
  },
  "language_info": {
   "codemirror_mode": {
    "name": "ipython",
    "version": 3
   },
   "file_extension": ".py",
   "mimetype": "text/x-python",
   "name": "python",
   "nbconvert_exporter": "python",
   "pygments_lexer": "ipython3",
   "version": "3.11.6"
  }
 },
 "nbformat": 4,
 "nbformat_minor": 2
}
