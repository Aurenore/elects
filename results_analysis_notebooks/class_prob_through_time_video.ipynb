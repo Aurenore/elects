{
 "cells": [
  {
   "cell_type": "markdown",
   "metadata": {},
   "source": [
    "# Extract video from sequence of images\n",
    "During training, final time boxplots, timestamps left, and the class probabilities are extracted and displayed as graphs once every 5 epochs. From those sequences of images, a video is created. This notebook shows how to extract the video from the sequence of images."
   ]
  },
  {
   "cell_type": "code",
   "execution_count": 1,
   "metadata": {},
   "outputs": [],
   "source": [
    "%load_ext autoreload\n",
    "%autoreload 2"
   ]
  },
  {
   "cell_type": "code",
   "execution_count": 2,
   "metadata": {},
   "outputs": [],
   "source": [
    "import sys\n",
    "import os \n",
    "os.environ['MPLCONFIGDIR'] = '/myhome'\n",
    "from datetime import datetime\n",
    "# sys.path.append(os.path.abspath(os.path.join(os.path.dirname(__file__), os.path.pardir)))\n",
    "sys.path.append(\"..\")\n",
    "import pandas as pd\n",
    "import wandb\n",
    "from IPython.display import Image\n",
    "from IPython.display import Video\n",
    "from utils.results_analysis.extract_video import download_images, add_files_to_images, save_video\n"
   ]
  },
  {
   "cell_type": "markdown",
   "metadata": {},
   "source": [
    "## Download the model from wandb "
   ]
  },
  {
   "cell_type": "code",
   "execution_count": 3,
   "metadata": {},
   "outputs": [
    {
     "data": {
      "text/html": [
       "<div>\n",
       "<style scoped>\n",
       "    .dataframe tbody tr th:only-of-type {\n",
       "        vertical-align: middle;\n",
       "    }\n",
       "\n",
       "    .dataframe tbody tr th {\n",
       "        vertical-align: top;\n",
       "    }\n",
       "\n",
       "    .dataframe thead th {\n",
       "        text-align: right;\n",
       "    }\n",
       "</style>\n",
       "<table border=\"1\" class=\"dataframe\">\n",
       "  <thead>\n",
       "    <tr style=\"text-align: right;\">\n",
       "      <th></th>\n",
       "      <th>summary</th>\n",
       "      <th>config</th>\n",
       "      <th>name</th>\n",
       "      <th>sweep</th>\n",
       "      <th>start_date</th>\n",
       "    </tr>\n",
       "  </thead>\n",
       "  <tbody>\n",
       "    <tr>\n",
       "      <th>0</th>\n",
       "      <td>{'alphas': [0.9911110997200012, 0.004444444552...</td>\n",
       "      <td>{'mu': 150, 'loss': 'daily_reward_lin_regr', '...</td>\n",
       "      <td>splendid-sweep-12</td>\n",
       "      <td>piecewise_lin_regr</td>\n",
       "      <td>2024-06-10T14:27:46</td>\n",
       "    </tr>\n",
       "    <tr>\n",
       "      <th>1</th>\n",
       "      <td>{'earliness_reward': 0, 'classification_loss':...</td>\n",
       "      <td>{'mu': 150, 'loss': 'daily_reward_lin_regr', '...</td>\n",
       "      <td>misunderstood-sweep-11</td>\n",
       "      <td>piecewise_lin_regr</td>\n",
       "      <td>2024-06-10T14:27:26</td>\n",
       "    </tr>\n",
       "    <tr>\n",
       "      <th>2</th>\n",
       "      <td>{'conf_mat_table': {'artifact_path': 'wandb-cl...</td>\n",
       "      <td>{'mu': 150, 'loss': 'daily_reward_lin_regr', '...</td>\n",
       "      <td>firm-sweep-10</td>\n",
       "      <td>piecewise_lin_regr</td>\n",
       "      <td>2024-06-10T14:23:20</td>\n",
       "    </tr>\n",
       "    <tr>\n",
       "      <th>3</th>\n",
       "      <td>{'precision': 0.6903013676664816, 'harmonic_me...</td>\n",
       "      <td>{'mu': 150, 'loss': 'daily_reward_lin_regr', '...</td>\n",
       "      <td>blooming-sweep-9</td>\n",
       "      <td>piecewise_lin_regr</td>\n",
       "      <td>2024-06-10T14:22:22</td>\n",
       "    </tr>\n",
       "    <tr>\n",
       "      <th>4</th>\n",
       "      <td>{'kappa': 0.5830747903693067, '_wandb': {'runt...</td>\n",
       "      <td>{'mu': 150, 'loss': 'daily_reward_lin_regr', '...</td>\n",
       "      <td>different-sweep-8</td>\n",
       "      <td>piecewise_lin_regr</td>\n",
       "      <td>2024-06-10T13:29:09</td>\n",
       "    </tr>\n",
       "    <tr>\n",
       "      <th>...</th>\n",
       "      <td>...</td>\n",
       "      <td>...</td>\n",
       "      <td>...</td>\n",
       "      <td>...</td>\n",
       "      <td>...</td>\n",
       "    </tr>\n",
       "    <tr>\n",
       "      <th>762</th>\n",
       "      <td>{'loss': {'testloss': 4.522304058074951, 'trai...</td>\n",
       "      <td>{'alpha': 0.5, 'device': 'cuda', 'epochs': 100...</td>\n",
       "      <td>TempCNN-seqlength150</td>\n",
       "      <td>None</td>\n",
       "      <td>2024-03-28T15:16:29</td>\n",
       "    </tr>\n",
       "    <tr>\n",
       "      <th>763</th>\n",
       "      <td>{'classification_loss': 6.784744739532471, 'cl...</td>\n",
       "      <td>{'alpha': 0.5, 'device': 'cpu', 'epochs': 100,...</td>\n",
       "      <td>LSTM-seqlength150</td>\n",
       "      <td>None</td>\n",
       "      <td>2024-03-28T15:15:39</td>\n",
       "    </tr>\n",
       "    <tr>\n",
       "      <th>764</th>\n",
       "      <td>{'classification_earliness': 0.189819240706228...</td>\n",
       "      <td>{'alpha': 0.5, 'device': 'cuda', 'epochs': 100...</td>\n",
       "      <td>TempCNN-seqlength70</td>\n",
       "      <td>None</td>\n",
       "      <td>2024-03-28T13:54:08</td>\n",
       "    </tr>\n",
       "    <tr>\n",
       "      <th>765</th>\n",
       "      <td>{'_step': 96, 'accuracy': 0.7814184661430005, ...</td>\n",
       "      <td>{'alpha': 0.5, 'device': 'cuda', 'epochs': 100...</td>\n",
       "      <td>ELECTS-LSTM-hiddendims=32</td>\n",
       "      <td>None</td>\n",
       "      <td>2024-03-27T14:55:09</td>\n",
       "    </tr>\n",
       "    <tr>\n",
       "      <th>766</th>\n",
       "      <td>{'loss': {'testloss': 1.979358434677124, 'trai...</td>\n",
       "      <td>{'alpha': 0.5, 'device': 'cuda', 'epochs': 100...</td>\n",
       "      <td>ELECTS-LSTM</td>\n",
       "      <td>None</td>\n",
       "      <td>2024-03-27T08:44:41</td>\n",
       "    </tr>\n",
       "  </tbody>\n",
       "</table>\n",
       "<p>767 rows × 5 columns</p>\n",
       "</div>"
      ],
      "text/plain": [
       "                                               summary  \\\n",
       "0    {'alphas': [0.9911110997200012, 0.004444444552...   \n",
       "1    {'earliness_reward': 0, 'classification_loss':...   \n",
       "2    {'conf_mat_table': {'artifact_path': 'wandb-cl...   \n",
       "3    {'precision': 0.6903013676664816, 'harmonic_me...   \n",
       "4    {'kappa': 0.5830747903693067, '_wandb': {'runt...   \n",
       "..                                                 ...   \n",
       "762  {'loss': {'testloss': 4.522304058074951, 'trai...   \n",
       "763  {'classification_loss': 6.784744739532471, 'cl...   \n",
       "764  {'classification_earliness': 0.189819240706228...   \n",
       "765  {'_step': 96, 'accuracy': 0.7814184661430005, ...   \n",
       "766  {'loss': {'testloss': 1.979358434677124, 'trai...   \n",
       "\n",
       "                                                config  \\\n",
       "0    {'mu': 150, 'loss': 'daily_reward_lin_regr', '...   \n",
       "1    {'mu': 150, 'loss': 'daily_reward_lin_regr', '...   \n",
       "2    {'mu': 150, 'loss': 'daily_reward_lin_regr', '...   \n",
       "3    {'mu': 150, 'loss': 'daily_reward_lin_regr', '...   \n",
       "4    {'mu': 150, 'loss': 'daily_reward_lin_regr', '...   \n",
       "..                                                 ...   \n",
       "762  {'alpha': 0.5, 'device': 'cuda', 'epochs': 100...   \n",
       "763  {'alpha': 0.5, 'device': 'cpu', 'epochs': 100,...   \n",
       "764  {'alpha': 0.5, 'device': 'cuda', 'epochs': 100...   \n",
       "765  {'alpha': 0.5, 'device': 'cuda', 'epochs': 100...   \n",
       "766  {'alpha': 0.5, 'device': 'cuda', 'epochs': 100...   \n",
       "\n",
       "                          name               sweep           start_date  \n",
       "0            splendid-sweep-12  piecewise_lin_regr  2024-06-10T14:27:46  \n",
       "1       misunderstood-sweep-11  piecewise_lin_regr  2024-06-10T14:27:26  \n",
       "2                firm-sweep-10  piecewise_lin_regr  2024-06-10T14:23:20  \n",
       "3             blooming-sweep-9  piecewise_lin_regr  2024-06-10T14:22:22  \n",
       "4            different-sweep-8  piecewise_lin_regr  2024-06-10T13:29:09  \n",
       "..                         ...                 ...                  ...  \n",
       "762       TempCNN-seqlength150                None  2024-03-28T15:16:29  \n",
       "763          LSTM-seqlength150                None  2024-03-28T15:15:39  \n",
       "764        TempCNN-seqlength70                None  2024-03-28T13:54:08  \n",
       "765  ELECTS-LSTM-hiddendims=32                None  2024-03-27T14:55:09  \n",
       "766                ELECTS-LSTM                None  2024-03-27T08:44:41  \n",
       "\n",
       "[767 rows x 5 columns]"
      ]
     },
     "execution_count": 3,
     "metadata": {},
     "output_type": "execute_result"
    }
   ],
   "source": [
    "api = wandb.Api()\n",
    "entity, project, sweep = \"aurenore\", \"MasterThesis\", \"x6ma4kpb\"\n",
    "runs = api.runs(entity + \"/\" + project)\n",
    "\n",
    "summary_list, config_list, name_list, sweep_list, start_date_list = [], [], [], [], []\n",
    "for run in runs:\n",
    "    # .summary contains output keys/values for\n",
    "    # metrics such as accuracy.\n",
    "    #  We call ._json_dict to omit large files\n",
    "    summary_list.append(run.summary._json_dict)\n",
    "\n",
    "    # .config contains the hyperparameters.\n",
    "    #  We remove special values that start with _.\n",
    "    config_list.append({k: v for k, v in run.config.items() if not k.startswith(\"_\")})\n",
    "\n",
    "    # .name is the human-readable name of the run.\n",
    "    name_list.append(run.name)\n",
    "    \n",
    "    if run.sweep:\n",
    "        sweep_list.append(run.sweep.name)\n",
    "    else:\n",
    "        sweep_list.append(None)\n",
    "        \n",
    "    start_date_list.append(run.createdAt)\n",
    "\n",
    "\n",
    "runs_df = pd.DataFrame(\n",
    "    {\"summary\": summary_list, \"config\": config_list, \"name\": name_list, \"sweep\": sweep_list, \"start_date\": start_date_list}\n",
    ")\n",
    "runs_df"
   ]
  },
  {
   "cell_type": "markdown",
   "metadata": {},
   "source": [
    "get the runs with certain sweep name, and created after a certain date"
   ]
  },
  {
   "cell_type": "code",
   "execution_count": 4,
   "metadata": {},
   "outputs": [],
   "source": [
    "sweep_name = \"daily_reward_lin_regr_with_mus_v2\"\n",
    "sweep_name = \"piecewise_lin_regr\"\n",
    "# get the best run\n",
    "df = runs_df[runs_df.sweep == sweep_name]\n"
   ]
  },
  {
   "cell_type": "markdown",
   "metadata": {},
   "source": [
    "Pick the run with the highest harmonic mean "
   ]
  },
  {
   "cell_type": "code",
   "execution_count": 5,
   "metadata": {},
   "outputs": [
    {
     "name": "stdout",
     "output_type": "stream",
     "text": [
      "chosen run:  playful-sweep-3\n",
      "with harmonic_mean:  0.6605583970625466\n"
     ]
    }
   ],
   "source": [
    "# get the run with the highest harmonic mean\n",
    "metric = \"harmonic_mean\"\n",
    "chosen_run_idx = df.summary.apply(lambda x: x[metric]).idxmax()\n",
    "chosen_run = runs[chosen_run_idx]\n",
    "chosen_run_config = chosen_run.config\n",
    "print(\"chosen run: \", chosen_run.name)\n",
    "print(f\"with {metric}: \", chosen_run.summary._json_dict[metric])"
   ]
  },
  {
   "cell_type": "markdown",
   "metadata": {},
   "source": [
    "## Sequence of image to video "
   ]
  },
  {
   "cell_type": "code",
   "execution_count": 6,
   "metadata": {},
   "outputs": [],
   "source": [
    "local_path = f\"../results_analysis_notebooks/media/{chosen_run.name}\""
   ]
  },
  {
   "cell_type": "code",
   "execution_count": 7,
   "metadata": {},
   "outputs": [
    {
     "name": "stdout",
     "output_type": "stream",
     "text": [
      "Downloading files which start with media/images/class_probabilities_wrt_time...\n",
      "Downloaded media/images/class_probabilities_wrt_time_100_bd822efb14270ec54dd1.png\n",
      "Downloaded media/images/class_probabilities_wrt_time_10_c5b1160d7bbb4f5c186c.png\n",
      "Downloaded media/images/class_probabilities_wrt_time_15_c8abb45fbcbc20707e14.png\n",
      "Downloaded media/images/class_probabilities_wrt_time_1_412a2a26c7e6621950bc.png\n",
      "Downloaded media/images/class_probabilities_wrt_time_20_ce7d8d2c84ede10435fe.png\n",
      "Downloaded media/images/class_probabilities_wrt_time_25_58d97c41eaa7f679de0d.png\n",
      "Downloaded media/images/class_probabilities_wrt_time_30_e3f2b8c86e13673006df.png\n",
      "Downloaded media/images/class_probabilities_wrt_time_35_db588ae58494dcb1c29d.png\n",
      "Downloaded media/images/class_probabilities_wrt_time_40_6bfd0826454eb5bfb635.png\n",
      "Downloaded media/images/class_probabilities_wrt_time_45_06fe1da6765c4c41f37a.png\n",
      "Downloaded media/images/class_probabilities_wrt_time_50_1851b850d594302a343e.png\n",
      "Downloaded media/images/class_probabilities_wrt_time_55_1e3c7a92204b0ca5d562.png\n",
      "Downloaded media/images/class_probabilities_wrt_time_5_1f7a37d5fbfc74c518c9.png\n",
      "Downloaded media/images/class_probabilities_wrt_time_60_d3fa219449f0a0dd1875.png\n",
      "Downloaded media/images/class_probabilities_wrt_time_65_beb7bb86e46115fbb452.png\n",
      "Downloaded media/images/class_probabilities_wrt_time_70_b5d9556806d5df766a17.png\n",
      "Downloaded media/images/class_probabilities_wrt_time_75_c7c6f27b7fff5c72887e.png\n",
      "Downloaded media/images/class_probabilities_wrt_time_80_9dfb5cbc102ef92ecda3.png\n",
      "Downloaded media/images/class_probabilities_wrt_time_85_4f3ced2df0e243b62f72.png\n",
      "Downloaded media/images/class_probabilities_wrt_time_90_44f31a3962b47e4710a3.png\n",
      "Downloaded media/images/class_probabilities_wrt_time_95_6a0e6c7f277d2ce6fdfd.png\n",
      "Total downloaded: 21 files, saved in ../results_analysis_notebooks/media/playful-sweep-3\n",
      "imags_paths:  ['../results_analysis_notebooks/media/playful-sweep-3\\\\media\\\\images\\\\class_probabilities_wrt_time_1_412a2a26c7e6621950bc.png', '../results_analysis_notebooks/media/playful-sweep-3\\\\media\\\\images\\\\class_probabilities_wrt_time_5_1f7a37d5fbfc74c518c9.png', '../results_analysis_notebooks/media/playful-sweep-3\\\\media\\\\images\\\\class_probabilities_wrt_time_10_c5b1160d7bbb4f5c186c.png', '../results_analysis_notebooks/media/playful-sweep-3\\\\media\\\\images\\\\class_probabilities_wrt_time_15_c8abb45fbcbc20707e14.png', '../results_analysis_notebooks/media/playful-sweep-3\\\\media\\\\images\\\\class_probabilities_wrt_time_20_ce7d8d2c84ede10435fe.png', '../results_analysis_notebooks/media/playful-sweep-3\\\\media\\\\images\\\\class_probabilities_wrt_time_25_58d97c41eaa7f679de0d.png', '../results_analysis_notebooks/media/playful-sweep-3\\\\media\\\\images\\\\class_probabilities_wrt_time_30_e3f2b8c86e13673006df.png', '../results_analysis_notebooks/media/playful-sweep-3\\\\media\\\\images\\\\class_probabilities_wrt_time_35_db588ae58494dcb1c29d.png', '../results_analysis_notebooks/media/playful-sweep-3\\\\media\\\\images\\\\class_probabilities_wrt_time_40_6bfd0826454eb5bfb635.png', '../results_analysis_notebooks/media/playful-sweep-3\\\\media\\\\images\\\\class_probabilities_wrt_time_45_06fe1da6765c4c41f37a.png', '../results_analysis_notebooks/media/playful-sweep-3\\\\media\\\\images\\\\class_probabilities_wrt_time_50_1851b850d594302a343e.png', '../results_analysis_notebooks/media/playful-sweep-3\\\\media\\\\images\\\\class_probabilities_wrt_time_55_1e3c7a92204b0ca5d562.png', '../results_analysis_notebooks/media/playful-sweep-3\\\\media\\\\images\\\\class_probabilities_wrt_time_60_d3fa219449f0a0dd1875.png', '../results_analysis_notebooks/media/playful-sweep-3\\\\media\\\\images\\\\class_probabilities_wrt_time_65_beb7bb86e46115fbb452.png', '../results_analysis_notebooks/media/playful-sweep-3\\\\media\\\\images\\\\class_probabilities_wrt_time_70_b5d9556806d5df766a17.png', '../results_analysis_notebooks/media/playful-sweep-3\\\\media\\\\images\\\\class_probabilities_wrt_time_75_c7c6f27b7fff5c72887e.png', '../results_analysis_notebooks/media/playful-sweep-3\\\\media\\\\images\\\\class_probabilities_wrt_time_80_9dfb5cbc102ef92ecda3.png', '../results_analysis_notebooks/media/playful-sweep-3\\\\media\\\\images\\\\class_probabilities_wrt_time_85_4f3ced2df0e243b62f72.png', '../results_analysis_notebooks/media/playful-sweep-3\\\\media\\\\images\\\\class_probabilities_wrt_time_90_44f31a3962b47e4710a3.png', '../results_analysis_notebooks/media/playful-sweep-3\\\\media\\\\images\\\\class_probabilities_wrt_time_95_6a0e6c7f277d2ce6fdfd.png', '../results_analysis_notebooks/media/playful-sweep-3\\\\media\\\\images\\\\class_probabilities_wrt_time_100_bd822efb14270ec54dd1.png']\n"
     ]
    },
    {
     "name": "stderr",
     "output_type": "stream",
     "text": [
      "IMAGEIO FFMPEG_WRITER WARNING: input image is not divisible by macro_block_size=16, resizing from (1500, 4900) to (1504, 4912) to ensure video compatibility with most codecs and players. To prevent resizing, make your input image divisible by the macro_block_size or set the macro_block_size to 1 (risking incompatibility).\n"
     ]
    },
    {
     "name": "stdout",
     "output_type": "stream",
     "text": [
      "21 images added to the video.\n",
      "Video saved at ../results_analysis_notebooks/media/playful-sweep-3\\media\\images\\class_probability_wrt_time.mp4\n"
     ]
    }
   ],
   "source": [
    "name_image = \"class_probabilities_wrt_time\"\n",
    "\n",
    "download_images(name_image, chosen_run, local_path)\n",
    "images, images_directory = add_files_to_images(local_path, name_image)\n",
    "video_path = save_video(images_directory, images)"
   ]
  },
  {
   "cell_type": "code",
   "execution_count": 8,
   "metadata": {},
   "outputs": [
    {
     "data": {
      "text/html": [
       "<video src=\"../results_analysis_notebooks/media/playful-sweep-3\\media\\images\\class_probability_wrt_time.mp4\" controls  >\n",
       "      Your browser does not support the <code>video</code> element.\n",
       "    </video>"
      ],
      "text/plain": [
       "<IPython.core.display.Video object>"
      ]
     },
     "execution_count": 8,
     "metadata": {},
     "output_type": "execute_result"
    }
   ],
   "source": [
    "# play video in the notebook\n",
    "Video(video_path)"
   ]
  },
  {
   "cell_type": "markdown",
   "metadata": {},
   "source": [
    "let's do the same for boxplots"
   ]
  },
  {
   "cell_type": "code",
   "execution_count": 9,
   "metadata": {},
   "outputs": [
    {
     "name": "stdout",
     "output_type": "stream",
     "text": [
      "Downloading files which start with media/images/boxplot...\n",
      "Downloaded media/images/boxplot_100_836ea9ea6f96cf87e23d.png\n",
      "Downloaded media/images/boxplot_10_7eaede13e809fa47fdc4.png\n",
      "Downloaded media/images/boxplot_15_cac13860861ea60fbc3b.png\n",
      "Downloaded media/images/boxplot_1_f1e85819b24134accf39.png\n",
      "Downloaded media/images/boxplot_20_36321afb90e07f91c2b9.png\n",
      "Downloaded media/images/boxplot_25_5307acc7c5b3894ff12c.png\n",
      "Downloaded media/images/boxplot_30_227f9943bbb6702cb237.png\n",
      "Downloaded media/images/boxplot_35_70203939845d81cd9233.png\n",
      "Downloaded media/images/boxplot_40_92a4ce40ebc042fa1aa8.png\n",
      "Downloaded media/images/boxplot_45_61a998be845d58d5628a.png\n",
      "Downloaded media/images/boxplot_50_6e63d728fb4792e2bc9e.png\n",
      "Downloaded media/images/boxplot_55_961effd9bcbc4ceb5665.png\n",
      "Downloaded media/images/boxplot_5_80e0dd66094eaa640a52.png\n",
      "Downloaded media/images/boxplot_60_535ba825cb15b5bea7f3.png\n",
      "Downloaded media/images/boxplot_65_1558c87dbe7305af5c34.png\n",
      "Downloaded media/images/boxplot_70_ef35593cbccab8776d28.png\n",
      "Downloaded media/images/boxplot_75_e7e8a8c065d0229c592c.png\n",
      "Downloaded media/images/boxplot_80_ec2c0cbedf277d2417a5.png\n",
      "Downloaded media/images/boxplot_85_c7ee32bb65d966a6d551.png\n",
      "Downloaded media/images/boxplot_90_9c2f432abe1aee36a398.png\n",
      "Downloaded media/images/boxplot_95_99ec5b019e79f64752ce.png\n",
      "Total downloaded: 21 files, saved in ../results_analysis_notebooks/media/playful-sweep-3\n",
      "imags_paths:  ['../results_analysis_notebooks/media/playful-sweep-3\\\\media\\\\images\\\\boxplot_1_f1e85819b24134accf39.png', '../results_analysis_notebooks/media/playful-sweep-3\\\\media\\\\images\\\\boxplot_5_80e0dd66094eaa640a52.png', '../results_analysis_notebooks/media/playful-sweep-3\\\\media\\\\images\\\\boxplot_10_7eaede13e809fa47fdc4.png', '../results_analysis_notebooks/media/playful-sweep-3\\\\media\\\\images\\\\boxplot_15_cac13860861ea60fbc3b.png', '../results_analysis_notebooks/media/playful-sweep-3\\\\media\\\\images\\\\boxplot_20_36321afb90e07f91c2b9.png', '../results_analysis_notebooks/media/playful-sweep-3\\\\media\\\\images\\\\boxplot_25_5307acc7c5b3894ff12c.png', '../results_analysis_notebooks/media/playful-sweep-3\\\\media\\\\images\\\\boxplot_30_227f9943bbb6702cb237.png', '../results_analysis_notebooks/media/playful-sweep-3\\\\media\\\\images\\\\boxplot_35_70203939845d81cd9233.png', '../results_analysis_notebooks/media/playful-sweep-3\\\\media\\\\images\\\\boxplot_40_92a4ce40ebc042fa1aa8.png', '../results_analysis_notebooks/media/playful-sweep-3\\\\media\\\\images\\\\boxplot_45_61a998be845d58d5628a.png', '../results_analysis_notebooks/media/playful-sweep-3\\\\media\\\\images\\\\boxplot_50_6e63d728fb4792e2bc9e.png', '../results_analysis_notebooks/media/playful-sweep-3\\\\media\\\\images\\\\boxplot_55_961effd9bcbc4ceb5665.png', '../results_analysis_notebooks/media/playful-sweep-3\\\\media\\\\images\\\\boxplot_60_535ba825cb15b5bea7f3.png', '../results_analysis_notebooks/media/playful-sweep-3\\\\media\\\\images\\\\boxplot_65_1558c87dbe7305af5c34.png', '../results_analysis_notebooks/media/playful-sweep-3\\\\media\\\\images\\\\boxplot_70_ef35593cbccab8776d28.png', '../results_analysis_notebooks/media/playful-sweep-3\\\\media\\\\images\\\\boxplot_75_e7e8a8c065d0229c592c.png', '../results_analysis_notebooks/media/playful-sweep-3\\\\media\\\\images\\\\boxplot_80_ec2c0cbedf277d2417a5.png', '../results_analysis_notebooks/media/playful-sweep-3\\\\media\\\\images\\\\boxplot_85_c7ee32bb65d966a6d551.png', '../results_analysis_notebooks/media/playful-sweep-3\\\\media\\\\images\\\\boxplot_90_9c2f432abe1aee36a398.png', '../results_analysis_notebooks/media/playful-sweep-3\\\\media\\\\images\\\\boxplot_95_99ec5b019e79f64752ce.png', '../results_analysis_notebooks/media/playful-sweep-3\\\\media\\\\images\\\\boxplot_100_836ea9ea6f96cf87e23d.png']\n"
     ]
    },
    {
     "name": "stderr",
     "output_type": "stream",
     "text": [
      "IMAGEIO FFMPEG_WRITER WARNING: input image is not divisible by macro_block_size=16, resizing from (1500, 700) to (1504, 704) to ensure video compatibility with most codecs and players. To prevent resizing, make your input image divisible by the macro_block_size or set the macro_block_size to 1 (risking incompatibility).\n"
     ]
    },
    {
     "name": "stdout",
     "output_type": "stream",
     "text": [
      "21 images added to the video.\n",
      "Video saved at ../results_analysis_notebooks/media/playful-sweep-3\\media\\images\\boxplot_video.mp4\n"
     ]
    },
    {
     "data": {
      "text/html": [
       "<video src=\"../results_analysis_notebooks/media/playful-sweep-3\\media\\images\\boxplot_video.mp4\" controls  >\n",
       "      Your browser does not support the <code>video</code> element.\n",
       "    </video>"
      ],
      "text/plain": [
       "<IPython.core.display.Video object>"
      ]
     },
     "execution_count": 9,
     "metadata": {},
     "output_type": "execute_result"
    }
   ],
   "source": [
    "name_image = \"boxplot\"\n",
    "\n",
    "download_images(name_image, chosen_run, local_path)\n",
    "images, images_directory = add_files_to_images(local_path, name_image)\n",
    "video_path = save_video(images_directory, images, name_image+\"_video.mp4\")\n",
    "\n",
    "Video(video_path)\n"
   ]
  },
  {
   "cell_type": "markdown",
   "metadata": {},
   "source": [
    "and for timestamps left"
   ]
  },
  {
   "cell_type": "code",
   "execution_count": 10,
   "metadata": {},
   "outputs": [
    {
     "name": "stdout",
     "output_type": "stream",
     "text": [
      "Downloading files which start with media/images/timestamps_left_plot...\n",
      "Downloaded media/images/timestamps_left_plot_100_1b00f31039ed0fdbfb83.png\n",
      "Downloaded media/images/timestamps_left_plot_10_81f98435c56ffb2d7b20.png\n",
      "Downloaded media/images/timestamps_left_plot_15_a5ee012714da29976ee0.png\n",
      "Downloaded media/images/timestamps_left_plot_1_7f3e7485263e52e36571.png\n",
      "Downloaded media/images/timestamps_left_plot_20_5a525077e66655e584e4.png\n",
      "Downloaded media/images/timestamps_left_plot_25_dec76ac833e0e54b85e8.png\n",
      "Downloaded media/images/timestamps_left_plot_30_185d41e4974c81fc2e1a.png\n",
      "Downloaded media/images/timestamps_left_plot_35_1e39fad9c9c00b12d23c.png\n",
      "Downloaded media/images/timestamps_left_plot_40_63fea8add696c68071cc.png\n",
      "Downloaded media/images/timestamps_left_plot_45_400bc15e3b516f67d396.png\n",
      "Downloaded media/images/timestamps_left_plot_50_6c436330f41fd32182a1.png\n",
      "Downloaded media/images/timestamps_left_plot_55_b4c682f5ca2f931c0d07.png\n",
      "Downloaded media/images/timestamps_left_plot_5_60e44ac42aef800ce409.png\n",
      "Downloaded media/images/timestamps_left_plot_60_475aec4dfe8caee7841e.png\n",
      "Downloaded media/images/timestamps_left_plot_65_fe350d5df17d2183d28b.png\n",
      "Downloaded media/images/timestamps_left_plot_70_93e80e8fdebea1622d19.png\n",
      "Downloaded media/images/timestamps_left_plot_75_e46be87e93829c373350.png\n",
      "Downloaded media/images/timestamps_left_plot_80_d1a976874852c6a8d91c.png\n",
      "Downloaded media/images/timestamps_left_plot_85_7ee367dd7221f6b1802f.png\n",
      "Downloaded media/images/timestamps_left_plot_90_461d0d8857684127eb56.png\n",
      "Downloaded media/images/timestamps_left_plot_95_334a550966701e1894bd.png\n",
      "Total downloaded: 21 files, saved in ../results_analysis_notebooks/media/playful-sweep-3\n",
      "imags_paths:  ['../results_analysis_notebooks/media/playful-sweep-3\\\\media\\\\images\\\\timestamps_left_plot_1_7f3e7485263e52e36571.png', '../results_analysis_notebooks/media/playful-sweep-3\\\\media\\\\images\\\\timestamps_left_plot_5_60e44ac42aef800ce409.png', '../results_analysis_notebooks/media/playful-sweep-3\\\\media\\\\images\\\\timestamps_left_plot_10_81f98435c56ffb2d7b20.png', '../results_analysis_notebooks/media/playful-sweep-3\\\\media\\\\images\\\\timestamps_left_plot_15_a5ee012714da29976ee0.png', '../results_analysis_notebooks/media/playful-sweep-3\\\\media\\\\images\\\\timestamps_left_plot_20_5a525077e66655e584e4.png', '../results_analysis_notebooks/media/playful-sweep-3\\\\media\\\\images\\\\timestamps_left_plot_25_dec76ac833e0e54b85e8.png', '../results_analysis_notebooks/media/playful-sweep-3\\\\media\\\\images\\\\timestamps_left_plot_30_185d41e4974c81fc2e1a.png', '../results_analysis_notebooks/media/playful-sweep-3\\\\media\\\\images\\\\timestamps_left_plot_35_1e39fad9c9c00b12d23c.png', '../results_analysis_notebooks/media/playful-sweep-3\\\\media\\\\images\\\\timestamps_left_plot_40_63fea8add696c68071cc.png', '../results_analysis_notebooks/media/playful-sweep-3\\\\media\\\\images\\\\timestamps_left_plot_45_400bc15e3b516f67d396.png', '../results_analysis_notebooks/media/playful-sweep-3\\\\media\\\\images\\\\timestamps_left_plot_50_6c436330f41fd32182a1.png', '../results_analysis_notebooks/media/playful-sweep-3\\\\media\\\\images\\\\timestamps_left_plot_55_b4c682f5ca2f931c0d07.png', '../results_analysis_notebooks/media/playful-sweep-3\\\\media\\\\images\\\\timestamps_left_plot_60_475aec4dfe8caee7841e.png', '../results_analysis_notebooks/media/playful-sweep-3\\\\media\\\\images\\\\timestamps_left_plot_65_fe350d5df17d2183d28b.png', '../results_analysis_notebooks/media/playful-sweep-3\\\\media\\\\images\\\\timestamps_left_plot_70_93e80e8fdebea1622d19.png', '../results_analysis_notebooks/media/playful-sweep-3\\\\media\\\\images\\\\timestamps_left_plot_75_e46be87e93829c373350.png', '../results_analysis_notebooks/media/playful-sweep-3\\\\media\\\\images\\\\timestamps_left_plot_80_d1a976874852c6a8d91c.png', '../results_analysis_notebooks/media/playful-sweep-3\\\\media\\\\images\\\\timestamps_left_plot_85_7ee367dd7221f6b1802f.png', '../results_analysis_notebooks/media/playful-sweep-3\\\\media\\\\images\\\\timestamps_left_plot_90_461d0d8857684127eb56.png', '../results_analysis_notebooks/media/playful-sweep-3\\\\media\\\\images\\\\timestamps_left_plot_95_334a550966701e1894bd.png', '../results_analysis_notebooks/media/playful-sweep-3\\\\media\\\\images\\\\timestamps_left_plot_100_1b00f31039ed0fdbfb83.png']\n"
     ]
    },
    {
     "name": "stderr",
     "output_type": "stream",
     "text": [
      "IMAGEIO FFMPEG_WRITER WARNING: input image is not divisible by macro_block_size=16, resizing from (1500, 700) to (1504, 704) to ensure video compatibility with most codecs and players. To prevent resizing, make your input image divisible by the macro_block_size or set the macro_block_size to 1 (risking incompatibility).\n"
     ]
    },
    {
     "name": "stdout",
     "output_type": "stream",
     "text": [
      "21 images added to the video.\n",
      "Video saved at ../results_analysis_notebooks/media/playful-sweep-3\\media\\images\\timestamps_left_plot_video.mp4\n"
     ]
    },
    {
     "data": {
      "text/html": [
       "<video src=\"../results_analysis_notebooks/media/playful-sweep-3\\media\\images\\timestamps_left_plot_video.mp4\" controls  >\n",
       "      Your browser does not support the <code>video</code> element.\n",
       "    </video>"
      ],
      "text/plain": [
       "<IPython.core.display.Video object>"
      ]
     },
     "execution_count": 10,
     "metadata": {},
     "output_type": "execute_result"
    }
   ],
   "source": [
    "name_image = \"timestamps_left_plot\"\n",
    "\n",
    "download_images(name_image, chosen_run, local_path)\n",
    "images, images_directory = add_files_to_images(local_path, name_image)\n",
    "video_path = save_video(images_directory, images, name_image+\"_video.mp4\")\n",
    "\n",
    "Video(video_path)"
   ]
  }
 ],
 "metadata": {
  "kernelspec": {
   "display_name": "venv",
   "language": "python",
   "name": "python3"
  },
  "language_info": {
   "codemirror_mode": {
    "name": "ipython",
    "version": 3
   },
   "file_extension": ".py",
   "mimetype": "text/x-python",
   "name": "python",
   "nbconvert_exporter": "python",
   "pygments_lexer": "ipython3",
   "version": "3.11.6"
  }
 },
 "nbformat": 4,
 "nbformat_minor": 2
}
