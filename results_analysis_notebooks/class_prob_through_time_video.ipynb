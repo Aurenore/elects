{
 "cells": [
  {
   "cell_type": "markdown",
   "metadata": {},
   "source": [
    "# Extract video from sequence of images\n",
    "During training, final time boxplots, timestamps left, and the class probabilities are extracted and displayed as graphs once every 5 epochs. From those sequences of images, a video is created. This notebook shows how to extract the video from the sequence of images."
   ]
  },
  {
   "cell_type": "code",
   "execution_count": 1,
   "metadata": {},
   "outputs": [],
   "source": [
    "%load_ext autoreload\n",
    "%autoreload 2"
   ]
  },
  {
   "cell_type": "code",
   "execution_count": 2,
   "metadata": {},
   "outputs": [],
   "source": [
    "import sys\n",
    "import os \n",
    "os.environ['MPLCONFIGDIR'] = '/myhome'\n",
    "from datetime import datetime\n",
    "# sys.path.append(os.path.abspath(os.path.join(os.path.dirname(__file__), os.path.pardir)))\n",
    "sys.path.append(\"..\")\n",
    "import pandas as pd\n",
    "import wandb\n",
    "from IPython.display import Image\n",
    "from IPython.display import Video\n",
    "from utils.results_analysis.extract_video import download_images, add_files_to_images, save_video\n",
    "from utils.test.load_model import get_all_runs, get_best_run, download_model, get_loaded_model_and_criterion\n"
   ]
  },
  {
   "cell_type": "markdown",
   "metadata": {},
   "source": [
    "## Download the model from wandb "
   ]
  },
  {
   "cell_type": "code",
   "execution_count": 3,
   "metadata": {},
   "outputs": [],
   "source": [
    "entity, project, sweep = \"aurenore\", \"MasterThesis\", \"piecewise_lin_regr\"\n",
    "runs_df, runs = get_all_runs(entity, project)\n",
    "df = runs_df[runs_df.sweep == sweep]"
   ]
  },
  {
   "cell_type": "code",
   "execution_count": 4,
   "metadata": {},
   "outputs": [
    {
     "name": "stdout",
     "output_type": "stream",
     "text": [
      "Number of runs in sweep piecewise_lin_regr:  104\n"
     ]
    },
    {
     "data": {
      "text/html": [
       "<div>\n",
       "<style scoped>\n",
       "    .dataframe tbody tr th:only-of-type {\n",
       "        vertical-align: middle;\n",
       "    }\n",
       "\n",
       "    .dataframe tbody tr th {\n",
       "        vertical-align: top;\n",
       "    }\n",
       "\n",
       "    .dataframe thead th {\n",
       "        text-align: right;\n",
       "    }\n",
       "</style>\n",
       "<table border=\"1\" class=\"dataframe\">\n",
       "  <thead>\n",
       "    <tr style=\"text-align: right;\">\n",
       "      <th></th>\n",
       "      <th>summary</th>\n",
       "      <th>config</th>\n",
       "      <th>name</th>\n",
       "      <th>sweep</th>\n",
       "      <th>start_date</th>\n",
       "    </tr>\n",
       "  </thead>\n",
       "  <tbody>\n",
       "    <tr>\n",
       "      <th>19</th>\n",
       "      <td>{'accuracy': 0.5796691497711891, 'conf_mat_tab...</td>\n",
       "      <td>{'mu': 150, 'loss': 'daily_reward_lin_regr', '...</td>\n",
       "      <td>chocolate-sweep-104</td>\n",
       "      <td>piecewise_lin_regr</td>\n",
       "      <td>2024-06-11T12:38:32</td>\n",
       "    </tr>\n",
       "    <tr>\n",
       "      <th>20</th>\n",
       "      <td>{'kappa': 0.516343325868255, '_runtime': 4466....</td>\n",
       "      <td>{'mu': 150, 'loss': 'daily_reward_lin_regr', '...</td>\n",
       "      <td>lively-sweep-103</td>\n",
       "      <td>piecewise_lin_regr</td>\n",
       "      <td>2024-06-11T12:34:54</td>\n",
       "    </tr>\n",
       "    <tr>\n",
       "      <th>21</th>\n",
       "      <td>{'precision': 0.5576418036636737, 'harmonic_me...</td>\n",
       "      <td>{'mu': 150, 'loss': 'daily_reward_lin_regr', '...</td>\n",
       "      <td>fanciful-sweep-102</td>\n",
       "      <td>piecewise_lin_regr</td>\n",
       "      <td>2024-06-11T12:32:27</td>\n",
       "    </tr>\n",
       "    <tr>\n",
       "      <th>22</th>\n",
       "      <td>{'lin_regr_zt_loss': 0.7408927083015442, 'labe...</td>\n",
       "      <td>{'mu': 150, 'loss': 'daily_reward_lin_regr', '...</td>\n",
       "      <td>breezy-sweep-101</td>\n",
       "      <td>piecewise_lin_regr</td>\n",
       "      <td>2024-06-11T12:27:42</td>\n",
       "    </tr>\n",
       "    <tr>\n",
       "      <th>29</th>\n",
       "      <td>{'label_distribution': {'size': 37378, '_type'...</td>\n",
       "      <td>{'mu': 150, 'loss': 'daily_reward_lin_regr', '...</td>\n",
       "      <td>gentle-sweep-100</td>\n",
       "      <td>piecewise_lin_regr</td>\n",
       "      <td>2024-06-11T11:39:45</td>\n",
       "    </tr>\n",
       "  </tbody>\n",
       "</table>\n",
       "</div>"
      ],
      "text/plain": [
       "                                              summary  \\\n",
       "19  {'accuracy': 0.5796691497711891, 'conf_mat_tab...   \n",
       "20  {'kappa': 0.516343325868255, '_runtime': 4466....   \n",
       "21  {'precision': 0.5576418036636737, 'harmonic_me...   \n",
       "22  {'lin_regr_zt_loss': 0.7408927083015442, 'labe...   \n",
       "29  {'label_distribution': {'size': 37378, '_type'...   \n",
       "\n",
       "                                               config                 name  \\\n",
       "19  {'mu': 150, 'loss': 'daily_reward_lin_regr', '...  chocolate-sweep-104   \n",
       "20  {'mu': 150, 'loss': 'daily_reward_lin_regr', '...     lively-sweep-103   \n",
       "21  {'mu': 150, 'loss': 'daily_reward_lin_regr', '...   fanciful-sweep-102   \n",
       "22  {'mu': 150, 'loss': 'daily_reward_lin_regr', '...     breezy-sweep-101   \n",
       "29  {'mu': 150, 'loss': 'daily_reward_lin_regr', '...     gentle-sweep-100   \n",
       "\n",
       "                 sweep           start_date  \n",
       "19  piecewise_lin_regr  2024-06-11T12:38:32  \n",
       "20  piecewise_lin_regr  2024-06-11T12:34:54  \n",
       "21  piecewise_lin_regr  2024-06-11T12:32:27  \n",
       "22  piecewise_lin_regr  2024-06-11T12:27:42  \n",
       "29  piecewise_lin_regr  2024-06-11T11:39:45  "
      ]
     },
     "execution_count": 4,
     "metadata": {},
     "output_type": "execute_result"
    }
   ],
   "source": [
    "print(f\"Number of runs in sweep {sweep}: \", len(df))\n",
    "df.head()"
   ]
  },
  {
   "cell_type": "markdown",
   "metadata": {},
   "source": [
    "Pick the run with the highest harmonic mean "
   ]
  },
  {
   "cell_type": "code",
   "execution_count": 7,
   "metadata": {},
   "outputs": [
    {
     "name": "stdout",
     "output_type": "stream",
     "text": [
      "chosen run:  earthy-sweep-92\n",
      "with harmonic_mean:  0.6680139471090303\n",
      "configurations of the best run:\n",
      "--------------------------------------------------\n",
      "mu: 150\n",
      "loss: daily_reward_lin_regr\n",
      "alpha: 1\n",
      "device: cuda\n",
      "epochs: 100\n",
      "resume: False\n",
      "dataset: breizhcrops\n",
      "epsilon: 10\n",
      "dataroot: /home/amauron/elects/data/elects_data\n",
      "p_thresh: 0.7\n",
      "patience: 30\n",
      "snapshot: /home/amauron/elects/data/elects_snapshots/model.pth\n",
      "batchsize: 256\n",
      "corrected: True\n",
      "alpha_decay: [1, 0.6]\n",
      "hidden_dims: 64\n",
      "loss_weight: balanced\n",
      "left_padding: False\n",
      "weight_decay: 0\n",
      "backbonemodel: LSTM\n",
      "class_weights: [0.04731182754039765, 0.02670983411371708, 0.14316703379154205, 0.01290007308125496, 1, 0.011567785404622557, 0.010797104798257353]\n",
      "decision_head: day\n",
      "learning_rate: 0.001\n",
      "nb_parameters: 66978\n",
      "sequencelength: 365\n",
      "validation_set: valid\n",
      "daily_timestamps: True\n",
      "day_head_init_bias: 5\n",
      "extra_padding_list: [0]\n",
      "original_time_serie_lengths: [102]\n",
      "percentage_earliness_reward: 0.6\n",
      "start_decision_head_training: 2\n",
      "--------------------------------------------------\n"
     ]
    }
   ],
   "source": [
    "metric = \"harmonic_mean\"\n",
    "chosen_run = get_best_run(df, runs, metric)\n",
    "print(\"configurations of the best run:\")\n",
    "print(\"-\"*50)\n",
    "for key, value in run.config.items():\n",
    "    print(f\"{key}: {value}\")\n",
    "print(\"-\"*50)"
   ]
  },
  {
   "cell_type": "markdown",
   "metadata": {},
   "source": [
    "## Sequence of image to video "
   ]
  },
  {
   "cell_type": "code",
   "execution_count": 8,
   "metadata": {},
   "outputs": [],
   "source": [
    "local_path = f\"../results_analysis_notebooks/media/{chosen_run.name}\""
   ]
  },
  {
   "cell_type": "code",
   "execution_count": 9,
   "metadata": {},
   "outputs": [
    {
     "name": "stdout",
     "output_type": "stream",
     "text": [
      "Downloading files which start with media/images/class_probabilities_wrt_time...\n",
      "Downloaded media/images/class_probabilities_wrt_time_100_40c6aab4c7336bb20abf.png\n",
      "Downloaded media/images/class_probabilities_wrt_time_10_3d654779a7bca91a52c7.png\n",
      "Downloaded media/images/class_probabilities_wrt_time_15_0e26dfaa217d22ec2635.png\n",
      "Downloaded media/images/class_probabilities_wrt_time_1_32353f22c23754c39862.png\n",
      "Downloaded media/images/class_probabilities_wrt_time_20_d19ebb793346e3da71e6.png\n",
      "Downloaded media/images/class_probabilities_wrt_time_25_e3984d291b8c4c28fc3e.png\n",
      "Downloaded media/images/class_probabilities_wrt_time_30_4a27077f404d93b06cff.png\n",
      "Downloaded media/images/class_probabilities_wrt_time_35_e2ec1c7549ff7c7b1551.png\n",
      "Downloaded media/images/class_probabilities_wrt_time_40_eb841d2512ebb3dd8797.png\n",
      "Downloaded media/images/class_probabilities_wrt_time_45_4b7a8cc5719caf813d72.png\n",
      "Downloaded media/images/class_probabilities_wrt_time_50_416a727d61e6277ebb53.png\n",
      "Downloaded media/images/class_probabilities_wrt_time_55_75bc1537ad55e00a32af.png\n",
      "Downloaded media/images/class_probabilities_wrt_time_5_f85f3a62c808250a4fe4.png\n",
      "Downloaded media/images/class_probabilities_wrt_time_60_6f9b96525fd536add617.png\n",
      "Downloaded media/images/class_probabilities_wrt_time_65_249106a31d786b5c6ad0.png\n",
      "Downloaded media/images/class_probabilities_wrt_time_70_60c693da4f437111afae.png\n",
      "Downloaded media/images/class_probabilities_wrt_time_75_932f26ef232e7c97cbb6.png\n",
      "Downloaded media/images/class_probabilities_wrt_time_80_efdc923b33b0417c29fe.png\n",
      "Downloaded media/images/class_probabilities_wrt_time_85_6eb7907357a17a1c517c.png\n",
      "Downloaded media/images/class_probabilities_wrt_time_90_6cb8dc4913d0b131ff17.png\n",
      "Downloaded media/images/class_probabilities_wrt_time_95_6a809a78198098bf33d8.png\n",
      "Total downloaded: 21 files, saved in ../results_analysis_notebooks/media/earthy-sweep-92\n",
      "imags_paths:  ['../results_analysis_notebooks/media/earthy-sweep-92\\\\media\\\\images\\\\class_probabilities_wrt_time_1_32353f22c23754c39862.png', '../results_analysis_notebooks/media/earthy-sweep-92\\\\media\\\\images\\\\class_probabilities_wrt_time_5_f85f3a62c808250a4fe4.png', '../results_analysis_notebooks/media/earthy-sweep-92\\\\media\\\\images\\\\class_probabilities_wrt_time_10_3d654779a7bca91a52c7.png', '../results_analysis_notebooks/media/earthy-sweep-92\\\\media\\\\images\\\\class_probabilities_wrt_time_15_0e26dfaa217d22ec2635.png', '../results_analysis_notebooks/media/earthy-sweep-92\\\\media\\\\images\\\\class_probabilities_wrt_time_20_d19ebb793346e3da71e6.png', '../results_analysis_notebooks/media/earthy-sweep-92\\\\media\\\\images\\\\class_probabilities_wrt_time_25_e3984d291b8c4c28fc3e.png', '../results_analysis_notebooks/media/earthy-sweep-92\\\\media\\\\images\\\\class_probabilities_wrt_time_30_4a27077f404d93b06cff.png', '../results_analysis_notebooks/media/earthy-sweep-92\\\\media\\\\images\\\\class_probabilities_wrt_time_35_e2ec1c7549ff7c7b1551.png', '../results_analysis_notebooks/media/earthy-sweep-92\\\\media\\\\images\\\\class_probabilities_wrt_time_40_eb841d2512ebb3dd8797.png', '../results_analysis_notebooks/media/earthy-sweep-92\\\\media\\\\images\\\\class_probabilities_wrt_time_45_4b7a8cc5719caf813d72.png', '../results_analysis_notebooks/media/earthy-sweep-92\\\\media\\\\images\\\\class_probabilities_wrt_time_50_416a727d61e6277ebb53.png', '../results_analysis_notebooks/media/earthy-sweep-92\\\\media\\\\images\\\\class_probabilities_wrt_time_55_75bc1537ad55e00a32af.png', '../results_analysis_notebooks/media/earthy-sweep-92\\\\media\\\\images\\\\class_probabilities_wrt_time_60_6f9b96525fd536add617.png', '../results_analysis_notebooks/media/earthy-sweep-92\\\\media\\\\images\\\\class_probabilities_wrt_time_65_249106a31d786b5c6ad0.png', '../results_analysis_notebooks/media/earthy-sweep-92\\\\media\\\\images\\\\class_probabilities_wrt_time_70_60c693da4f437111afae.png', '../results_analysis_notebooks/media/earthy-sweep-92\\\\media\\\\images\\\\class_probabilities_wrt_time_75_932f26ef232e7c97cbb6.png', '../results_analysis_notebooks/media/earthy-sweep-92\\\\media\\\\images\\\\class_probabilities_wrt_time_80_efdc923b33b0417c29fe.png', '../results_analysis_notebooks/media/earthy-sweep-92\\\\media\\\\images\\\\class_probabilities_wrt_time_85_6eb7907357a17a1c517c.png', '../results_analysis_notebooks/media/earthy-sweep-92\\\\media\\\\images\\\\class_probabilities_wrt_time_90_6cb8dc4913d0b131ff17.png', '../results_analysis_notebooks/media/earthy-sweep-92\\\\media\\\\images\\\\class_probabilities_wrt_time_95_6a809a78198098bf33d8.png', '../results_analysis_notebooks/media/earthy-sweep-92\\\\media\\\\images\\\\class_probabilities_wrt_time_100_40c6aab4c7336bb20abf.png']\n"
     ]
    },
    {
     "name": "stderr",
     "output_type": "stream",
     "text": [
      "IMAGEIO FFMPEG_WRITER WARNING: input image is not divisible by macro_block_size=16, resizing from (1500, 4900) to (1504, 4912) to ensure video compatibility with most codecs and players. To prevent resizing, make your input image divisible by the macro_block_size or set the macro_block_size to 1 (risking incompatibility).\n"
     ]
    },
    {
     "name": "stdout",
     "output_type": "stream",
     "text": [
      "21 images added to the video.\n",
      "Video saved at ../results_analysis_notebooks/media/earthy-sweep-92\\media\\images\\class_probability_wrt_time.mp4\n"
     ]
    }
   ],
   "source": [
    "name_image = \"class_probabilities_wrt_time\"\n",
    "\n",
    "download_images(name_image, chosen_run, local_path)\n",
    "images, images_directory = add_files_to_images(local_path, name_image)\n",
    "video_path = save_video(images_directory, images)"
   ]
  },
  {
   "cell_type": "code",
   "execution_count": 10,
   "metadata": {},
   "outputs": [
    {
     "data": {
      "text/html": [
       "<video src=\"../results_analysis_notebooks/media/earthy-sweep-92\\media\\images\\class_probability_wrt_time.mp4\" controls  >\n",
       "      Your browser does not support the <code>video</code> element.\n",
       "    </video>"
      ],
      "text/plain": [
       "<IPython.core.display.Video object>"
      ]
     },
     "execution_count": 10,
     "metadata": {},
     "output_type": "execute_result"
    }
   ],
   "source": [
    "# play video in the notebook\n",
    "Video(video_path)"
   ]
  },
  {
   "cell_type": "markdown",
   "metadata": {},
   "source": [
    "let's do the same for boxplots"
   ]
  },
  {
   "cell_type": "code",
   "execution_count": 11,
   "metadata": {},
   "outputs": [
    {
     "name": "stdout",
     "output_type": "stream",
     "text": [
      "Downloading files which start with media/images/boxplot...\n",
      "Downloaded media/images/boxplot_100_5bac0eddf33547d41a32.png\n",
      "Downloaded media/images/boxplot_10_c1a19dd8edcd5f9deeb3.png\n",
      "Downloaded media/images/boxplot_15_eaf655142c1bbc885beb.png\n",
      "Downloaded media/images/boxplot_1_f1e85819b24134accf39.png\n",
      "Downloaded media/images/boxplot_20_dc966329be0979332787.png\n",
      "Downloaded media/images/boxplot_25_7ab8a5c9d8bb00ffd67b.png\n",
      "Downloaded media/images/boxplot_30_0155e5a7b603aa5099e0.png\n",
      "Downloaded media/images/boxplot_35_702240a208908a443e0b.png\n",
      "Downloaded media/images/boxplot_40_502ae8486c7991e9c953.png\n",
      "Downloaded media/images/boxplot_45_d458bacc638b5721d455.png\n",
      "Downloaded media/images/boxplot_50_a09ee07f88c964cf93b7.png\n",
      "Downloaded media/images/boxplot_55_ea0c206ae72f2e943d39.png\n",
      "Downloaded media/images/boxplot_5_ac5659929bbedb71180e.png\n",
      "Downloaded media/images/boxplot_60_7f59c0d527d6277369fd.png\n",
      "Downloaded media/images/boxplot_65_3870d7bc7ae2aca5fb82.png\n",
      "Downloaded media/images/boxplot_70_223577e8ca82df353f44.png\n",
      "Downloaded media/images/boxplot_75_c7217bd927272aed96b6.png\n",
      "Downloaded media/images/boxplot_80_1c6211187aa813769961.png\n",
      "Downloaded media/images/boxplot_85_e47e2ada7d4e81728730.png\n",
      "Downloaded media/images/boxplot_90_4877453ced3a1044e807.png\n",
      "Downloaded media/images/boxplot_95_424205a931e1314cc081.png\n",
      "Total downloaded: 21 files, saved in ../results_analysis_notebooks/media/earthy-sweep-92\n",
      "imags_paths:  ['../results_analysis_notebooks/media/earthy-sweep-92\\\\media\\\\images\\\\boxplot_1_f1e85819b24134accf39.png', '../results_analysis_notebooks/media/earthy-sweep-92\\\\media\\\\images\\\\boxplot_5_ac5659929bbedb71180e.png', '../results_analysis_notebooks/media/earthy-sweep-92\\\\media\\\\images\\\\boxplot_10_c1a19dd8edcd5f9deeb3.png', '../results_analysis_notebooks/media/earthy-sweep-92\\\\media\\\\images\\\\boxplot_15_eaf655142c1bbc885beb.png', '../results_analysis_notebooks/media/earthy-sweep-92\\\\media\\\\images\\\\boxplot_20_dc966329be0979332787.png', '../results_analysis_notebooks/media/earthy-sweep-92\\\\media\\\\images\\\\boxplot_25_7ab8a5c9d8bb00ffd67b.png', '../results_analysis_notebooks/media/earthy-sweep-92\\\\media\\\\images\\\\boxplot_30_0155e5a7b603aa5099e0.png', '../results_analysis_notebooks/media/earthy-sweep-92\\\\media\\\\images\\\\boxplot_35_702240a208908a443e0b.png', '../results_analysis_notebooks/media/earthy-sweep-92\\\\media\\\\images\\\\boxplot_40_502ae8486c7991e9c953.png', '../results_analysis_notebooks/media/earthy-sweep-92\\\\media\\\\images\\\\boxplot_45_d458bacc638b5721d455.png', '../results_analysis_notebooks/media/earthy-sweep-92\\\\media\\\\images\\\\boxplot_50_a09ee07f88c964cf93b7.png', '../results_analysis_notebooks/media/earthy-sweep-92\\\\media\\\\images\\\\boxplot_55_ea0c206ae72f2e943d39.png', '../results_analysis_notebooks/media/earthy-sweep-92\\\\media\\\\images\\\\boxplot_60_7f59c0d527d6277369fd.png', '../results_analysis_notebooks/media/earthy-sweep-92\\\\media\\\\images\\\\boxplot_65_3870d7bc7ae2aca5fb82.png', '../results_analysis_notebooks/media/earthy-sweep-92\\\\media\\\\images\\\\boxplot_70_223577e8ca82df353f44.png', '../results_analysis_notebooks/media/earthy-sweep-92\\\\media\\\\images\\\\boxplot_75_c7217bd927272aed96b6.png', '../results_analysis_notebooks/media/earthy-sweep-92\\\\media\\\\images\\\\boxplot_80_1c6211187aa813769961.png', '../results_analysis_notebooks/media/earthy-sweep-92\\\\media\\\\images\\\\boxplot_85_e47e2ada7d4e81728730.png', '../results_analysis_notebooks/media/earthy-sweep-92\\\\media\\\\images\\\\boxplot_90_4877453ced3a1044e807.png', '../results_analysis_notebooks/media/earthy-sweep-92\\\\media\\\\images\\\\boxplot_95_424205a931e1314cc081.png', '../results_analysis_notebooks/media/earthy-sweep-92\\\\media\\\\images\\\\boxplot_100_5bac0eddf33547d41a32.png']\n"
     ]
    },
    {
     "name": "stderr",
     "output_type": "stream",
     "text": [
      "IMAGEIO FFMPEG_WRITER WARNING: input image is not divisible by macro_block_size=16, resizing from (1500, 700) to (1504, 704) to ensure video compatibility with most codecs and players. To prevent resizing, make your input image divisible by the macro_block_size or set the macro_block_size to 1 (risking incompatibility).\n"
     ]
    },
    {
     "name": "stdout",
     "output_type": "stream",
     "text": [
      "21 images added to the video.\n",
      "Video saved at ../results_analysis_notebooks/media/earthy-sweep-92\\media\\images\\boxplot_video.mp4\n"
     ]
    },
    {
     "data": {
      "text/html": [
       "<video src=\"../results_analysis_notebooks/media/earthy-sweep-92\\media\\images\\boxplot_video.mp4\" controls  >\n",
       "      Your browser does not support the <code>video</code> element.\n",
       "    </video>"
      ],
      "text/plain": [
       "<IPython.core.display.Video object>"
      ]
     },
     "execution_count": 11,
     "metadata": {},
     "output_type": "execute_result"
    }
   ],
   "source": [
    "name_image = \"boxplot\"\n",
    "\n",
    "download_images(name_image, chosen_run, local_path)\n",
    "images, images_directory = add_files_to_images(local_path, name_image)\n",
    "video_path = save_video(images_directory, images, name_image+\"_video.mp4\")\n",
    "\n",
    "Video(video_path)\n"
   ]
  },
  {
   "cell_type": "markdown",
   "metadata": {},
   "source": [
    "and for timestamps left"
   ]
  },
  {
   "cell_type": "code",
   "execution_count": 12,
   "metadata": {},
   "outputs": [
    {
     "name": "stdout",
     "output_type": "stream",
     "text": [
      "Downloading files which start with media/images/timestamps_left_plot...\n",
      "Downloaded media/images/timestamps_left_plot_100_906046ab69ccd4085083.png\n",
      "Downloaded media/images/timestamps_left_plot_10_559d6e64425f9d75745b.png\n",
      "Downloaded media/images/timestamps_left_plot_15_21ac25009f09b3cb76b7.png\n",
      "Downloaded media/images/timestamps_left_plot_1_8d3fb7c847b82f714812.png\n",
      "Downloaded media/images/timestamps_left_plot_20_cc1ec8200cb1e223c6ab.png\n",
      "Downloaded media/images/timestamps_left_plot_25_1109924b5581cfa41daa.png\n",
      "Downloaded media/images/timestamps_left_plot_30_2f3d51278eed8cbcd4eb.png\n",
      "Downloaded media/images/timestamps_left_plot_35_f3a6024bf675549a5235.png\n",
      "Downloaded media/images/timestamps_left_plot_40_3773627ddae935b69e5b.png\n",
      "Downloaded media/images/timestamps_left_plot_45_95ca7abf0caf1420faae.png\n",
      "Downloaded media/images/timestamps_left_plot_50_b1c3c996e35325860abe.png\n",
      "Downloaded media/images/timestamps_left_plot_55_d83c6a18f5947622d67c.png\n",
      "Downloaded media/images/timestamps_left_plot_5_756dbac46e9096d50f3c.png\n",
      "Downloaded media/images/timestamps_left_plot_60_082aadbd12379346f0bb.png\n",
      "Downloaded media/images/timestamps_left_plot_65_b97949f7ac3b12d76677.png\n",
      "Downloaded media/images/timestamps_left_plot_70_421e5c5300341f16921a.png\n",
      "Downloaded media/images/timestamps_left_plot_75_58034dc26c1aafb85b0c.png\n",
      "Downloaded media/images/timestamps_left_plot_80_54e2a7a76225d60f7245.png\n",
      "Downloaded media/images/timestamps_left_plot_85_e27f4ce2a0e38d1cf594.png\n",
      "Downloaded media/images/timestamps_left_plot_90_36e8173d5ff7b1277015.png\n",
      "Downloaded media/images/timestamps_left_plot_95_1a2f9e81dca459eda04a.png\n",
      "Total downloaded: 21 files, saved in ../results_analysis_notebooks/media/earthy-sweep-92\n",
      "imags_paths:  ['../results_analysis_notebooks/media/earthy-sweep-92\\\\media\\\\images\\\\timestamps_left_plot_1_8d3fb7c847b82f714812.png', '../results_analysis_notebooks/media/earthy-sweep-92\\\\media\\\\images\\\\timestamps_left_plot_5_756dbac46e9096d50f3c.png', '../results_analysis_notebooks/media/earthy-sweep-92\\\\media\\\\images\\\\timestamps_left_plot_10_559d6e64425f9d75745b.png', '../results_analysis_notebooks/media/earthy-sweep-92\\\\media\\\\images\\\\timestamps_left_plot_15_21ac25009f09b3cb76b7.png', '../results_analysis_notebooks/media/earthy-sweep-92\\\\media\\\\images\\\\timestamps_left_plot_20_cc1ec8200cb1e223c6ab.png', '../results_analysis_notebooks/media/earthy-sweep-92\\\\media\\\\images\\\\timestamps_left_plot_25_1109924b5581cfa41daa.png', '../results_analysis_notebooks/media/earthy-sweep-92\\\\media\\\\images\\\\timestamps_left_plot_30_2f3d51278eed8cbcd4eb.png', '../results_analysis_notebooks/media/earthy-sweep-92\\\\media\\\\images\\\\timestamps_left_plot_35_f3a6024bf675549a5235.png', '../results_analysis_notebooks/media/earthy-sweep-92\\\\media\\\\images\\\\timestamps_left_plot_40_3773627ddae935b69e5b.png', '../results_analysis_notebooks/media/earthy-sweep-92\\\\media\\\\images\\\\timestamps_left_plot_45_95ca7abf0caf1420faae.png', '../results_analysis_notebooks/media/earthy-sweep-92\\\\media\\\\images\\\\timestamps_left_plot_50_b1c3c996e35325860abe.png', '../results_analysis_notebooks/media/earthy-sweep-92\\\\media\\\\images\\\\timestamps_left_plot_55_d83c6a18f5947622d67c.png', '../results_analysis_notebooks/media/earthy-sweep-92\\\\media\\\\images\\\\timestamps_left_plot_60_082aadbd12379346f0bb.png', '../results_analysis_notebooks/media/earthy-sweep-92\\\\media\\\\images\\\\timestamps_left_plot_65_b97949f7ac3b12d76677.png', '../results_analysis_notebooks/media/earthy-sweep-92\\\\media\\\\images\\\\timestamps_left_plot_70_421e5c5300341f16921a.png', '../results_analysis_notebooks/media/earthy-sweep-92\\\\media\\\\images\\\\timestamps_left_plot_75_58034dc26c1aafb85b0c.png', '../results_analysis_notebooks/media/earthy-sweep-92\\\\media\\\\images\\\\timestamps_left_plot_80_54e2a7a76225d60f7245.png', '../results_analysis_notebooks/media/earthy-sweep-92\\\\media\\\\images\\\\timestamps_left_plot_85_e27f4ce2a0e38d1cf594.png', '../results_analysis_notebooks/media/earthy-sweep-92\\\\media\\\\images\\\\timestamps_left_plot_90_36e8173d5ff7b1277015.png', '../results_analysis_notebooks/media/earthy-sweep-92\\\\media\\\\images\\\\timestamps_left_plot_95_1a2f9e81dca459eda04a.png', '../results_analysis_notebooks/media/earthy-sweep-92\\\\media\\\\images\\\\timestamps_left_plot_100_906046ab69ccd4085083.png']\n"
     ]
    },
    {
     "name": "stderr",
     "output_type": "stream",
     "text": [
      "IMAGEIO FFMPEG_WRITER WARNING: input image is not divisible by macro_block_size=16, resizing from (1500, 700) to (1504, 704) to ensure video compatibility with most codecs and players. To prevent resizing, make your input image divisible by the macro_block_size or set the macro_block_size to 1 (risking incompatibility).\n"
     ]
    },
    {
     "name": "stdout",
     "output_type": "stream",
     "text": [
      "21 images added to the video.\n",
      "Video saved at ../results_analysis_notebooks/media/earthy-sweep-92\\media\\images\\timestamps_left_plot_video.mp4\n"
     ]
    },
    {
     "data": {
      "text/html": [
       "<video src=\"../results_analysis_notebooks/media/earthy-sweep-92\\media\\images\\timestamps_left_plot_video.mp4\" controls  >\n",
       "      Your browser does not support the <code>video</code> element.\n",
       "    </video>"
      ],
      "text/plain": [
       "<IPython.core.display.Video object>"
      ]
     },
     "execution_count": 12,
     "metadata": {},
     "output_type": "execute_result"
    }
   ],
   "source": [
    "name_image = \"timestamps_left_plot\"\n",
    "\n",
    "download_images(name_image, chosen_run, local_path)\n",
    "images, images_directory = add_files_to_images(local_path, name_image)\n",
    "video_path = save_video(images_directory, images, name_image+\"_video.mp4\")\n",
    "\n",
    "Video(video_path)"
   ]
  },
  {
   "cell_type": "code",
   "execution_count": null,
   "metadata": {},
   "outputs": [],
   "source": []
  }
 ],
 "metadata": {
  "kernelspec": {
   "display_name": "venv",
   "language": "python",
   "name": "python3"
  },
  "language_info": {
   "codemirror_mode": {
    "name": "ipython",
    "version": 3
   },
   "file_extension": ".py",
   "mimetype": "text/x-python",
   "name": "python",
   "nbconvert_exporter": "python",
   "pygments_lexer": "ipython3",
   "version": "3.11.6"
  }
 },
 "nbformat": 4,
 "nbformat_minor": 2
}
