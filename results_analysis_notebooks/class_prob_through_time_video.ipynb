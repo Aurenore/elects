{
 "cells": [
  {
   "cell_type": "markdown",
   "metadata": {},
   "source": [
    "# Extract video from sequence of images\n"
   ]
  },
  {
   "cell_type": "code",
   "execution_count": 1,
   "metadata": {},
   "outputs": [],
   "source": [
    "%load_ext autoreload\n",
    "%autoreload 2"
   ]
  },
  {
   "cell_type": "code",
   "execution_count": 2,
   "metadata": {},
   "outputs": [],
   "source": [
    "import sys\n",
    "import os \n",
    "os.environ['MPLCONFIGDIR'] = '/myhome'\n",
    "from datetime import datetime\n",
    "# sys.path.append(os.path.abspath(os.path.join(os.path.dirname(__file__), os.path.pardir)))\n",
    "sys.path.append(\"..\")\n",
    "from data import BavarianCrops, BreizhCrops, SustainbenchCrops, ModisCDL\n",
    "from models.earlyrnn import EarlyRNN\n",
    "from models.daily_earlyrnn import DailyEarlyRNN\n",
    "import torch\n",
    "from utils.losses.early_reward_loss import EarlyRewardLoss\n",
    "from utils.losses.stopping_time_proximity_loss import StoppingTimeProximityLoss, sample_three_uniform_numbers\n",
    "from utils.losses.daily_reward_loss import DailyRewardLoss\n",
    "import pandas as pd\n",
    "import pickle \n",
    "import wandb\n",
    "import json\n",
    "from utils.plots import plot_label_distribution_datasets, boxplot_stopping_times, plot_timestamps_left_per_class\n",
    "from utils.doy import get_doys_dict_test, get_doy_stop\n",
    "from utils.helpers_training import parse_args\n",
    "from utils.helpers_testing import test_dataset, get_test_stats\n",
    "import matplotlib.pyplot as plt\n",
    "from utils.plots_test import plot_doy_prob, plot_all_doy_probs, plot_confusion_matrix, plot_probability_stopping, \\\n",
    "    plot_fig_class_prob_wrt_time, plot_fig_class_prob_wrt_time_one_sample, plot_fig_class_prob_wrt_time_with_mus\n",
    "from models.model_helpers import count_parameters\n",
    "from utils.extract_mu import extract_mu_thresh\n",
    "from IPython.display import Image\n",
    "from IPython.display import Video\n",
    "from utils.results_analysis.extract_video import download_images, add_files_to_images, save_video\n"
   ]
  },
  {
   "cell_type": "markdown",
   "metadata": {},
   "source": [
    "## Download the model from wandb "
   ]
  },
  {
   "cell_type": "code",
   "execution_count": 3,
   "metadata": {},
   "outputs": [
    {
     "data": {
      "text/html": [
       "<div>\n",
       "<style scoped>\n",
       "    .dataframe tbody tr th:only-of-type {\n",
       "        vertical-align: middle;\n",
       "    }\n",
       "\n",
       "    .dataframe tbody tr th {\n",
       "        vertical-align: top;\n",
       "    }\n",
       "\n",
       "    .dataframe thead th {\n",
       "        text-align: right;\n",
       "    }\n",
       "</style>\n",
       "<table border=\"1\" class=\"dataframe\">\n",
       "  <thead>\n",
       "    <tr style=\"text-align: right;\">\n",
       "      <th></th>\n",
       "      <th>summary</th>\n",
       "      <th>config</th>\n",
       "      <th>name</th>\n",
       "      <th>sweep</th>\n",
       "      <th>start_date</th>\n",
       "    </tr>\n",
       "  </thead>\n",
       "  <tbody>\n",
       "    <tr>\n",
       "      <th>0</th>\n",
       "      <td>{'loss': {'testloss': 7.443081855773926, 'trai...</td>\n",
       "      <td>{'mu': 150, 'loss': 'daily_reward_lin_regr', '...</td>\n",
       "      <td>soft-sweep-106</td>\n",
       "      <td>daily_reward_lin_regr_with_mus_v2</td>\n",
       "      <td>2024-06-07T18:30:04</td>\n",
       "    </tr>\n",
       "    <tr>\n",
       "      <th>1</th>\n",
       "      <td>{'_runtime': 2773.031559944153, 'conf_mat_tabl...</td>\n",
       "      <td>{'mu': 150, 'loss': 'daily_reward_lin_regr', '...</td>\n",
       "      <td>vibrant-sweep-105</td>\n",
       "      <td>daily_reward_lin_regr_with_mus_v2</td>\n",
       "      <td>2024-06-07T18:16:18</td>\n",
       "    </tr>\n",
       "    <tr>\n",
       "      <th>2</th>\n",
       "      <td>{'epoch': 100, 'precision': 0.5517589301461332...</td>\n",
       "      <td>{'mu': 150, 'loss': 'daily_reward_lin_regr', '...</td>\n",
       "      <td>winter-sweep-104</td>\n",
       "      <td>daily_reward_lin_regr_with_mus_v2</td>\n",
       "      <td>2024-06-07T18:15:55</td>\n",
       "    </tr>\n",
       "    <tr>\n",
       "      <th>3</th>\n",
       "      <td>{'_wandb': {'runtime': 3344}, 'alphas': [0.800...</td>\n",
       "      <td>{'mu': 150, 'loss': 'daily_reward_lin_regr', '...</td>\n",
       "      <td>dainty-sweep-103</td>\n",
       "      <td>daily_reward_lin_regr_with_mus_v2</td>\n",
       "      <td>2024-06-07T18:00:02</td>\n",
       "    </tr>\n",
       "    <tr>\n",
       "      <th>4</th>\n",
       "      <td>{'kappa': 0.5321212218630831, '_runtime': 3464...</td>\n",
       "      <td>{'mu': 150, 'loss': 'daily_reward_lin_regr', '...</td>\n",
       "      <td>confused-sweep-102</td>\n",
       "      <td>daily_reward_lin_regr_with_mus_v2</td>\n",
       "      <td>2024-06-07T17:32:01</td>\n",
       "    </tr>\n",
       "    <tr>\n",
       "      <th>...</th>\n",
       "      <td>...</td>\n",
       "      <td>...</td>\n",
       "      <td>...</td>\n",
       "      <td>...</td>\n",
       "      <td>...</td>\n",
       "    </tr>\n",
       "    <tr>\n",
       "      <th>750</th>\n",
       "      <td>{'_wandb': {'runtime': 21797}, 'recall': 0.527...</td>\n",
       "      <td>{'alpha': 0.5, 'device': 'cuda', 'epochs': 100...</td>\n",
       "      <td>TempCNN-seqlength150</td>\n",
       "      <td>None</td>\n",
       "      <td>2024-03-28T15:16:29</td>\n",
       "    </tr>\n",
       "    <tr>\n",
       "      <th>751</th>\n",
       "      <td>{'_step': 46, 'fscore': 0.5579019448823247, 'b...</td>\n",
       "      <td>{'alpha': 0.5, 'device': 'cpu', 'epochs': 100,...</td>\n",
       "      <td>LSTM-seqlength150</td>\n",
       "      <td>None</td>\n",
       "      <td>2024-03-28T15:15:39</td>\n",
       "    </tr>\n",
       "    <tr>\n",
       "      <th>752</th>\n",
       "      <td>{'precision': 0.5533549974802285, 'classificat...</td>\n",
       "      <td>{'alpha': 0.5, 'device': 'cuda', 'epochs': 100...</td>\n",
       "      <td>TempCNN-seqlength70</td>\n",
       "      <td>None</td>\n",
       "      <td>2024-03-28T13:54:08</td>\n",
       "    </tr>\n",
       "    <tr>\n",
       "      <th>753</th>\n",
       "      <td>{'_timestamp': 1711570628.1319556, 'conf_mat_t...</td>\n",
       "      <td>{'alpha': 0.5, 'device': 'cuda', 'epochs': 100...</td>\n",
       "      <td>ELECTS-LSTM-hiddendims=32</td>\n",
       "      <td>None</td>\n",
       "      <td>2024-03-27T14:55:09</td>\n",
       "    </tr>\n",
       "    <tr>\n",
       "      <th>754</th>\n",
       "      <td>{'boxplot': {'size': 41441, '_type': 'image-fi...</td>\n",
       "      <td>{'alpha': 0.5, 'device': 'cuda', 'epochs': 100...</td>\n",
       "      <td>ELECTS-LSTM</td>\n",
       "      <td>None</td>\n",
       "      <td>2024-03-27T08:44:41</td>\n",
       "    </tr>\n",
       "  </tbody>\n",
       "</table>\n",
       "<p>755 rows × 5 columns</p>\n",
       "</div>"
      ],
      "text/plain": [
       "                                               summary  \\\n",
       "0    {'loss': {'testloss': 7.443081855773926, 'trai...   \n",
       "1    {'_runtime': 2773.031559944153, 'conf_mat_tabl...   \n",
       "2    {'epoch': 100, 'precision': 0.5517589301461332...   \n",
       "3    {'_wandb': {'runtime': 3344}, 'alphas': [0.800...   \n",
       "4    {'kappa': 0.5321212218630831, '_runtime': 3464...   \n",
       "..                                                 ...   \n",
       "750  {'_wandb': {'runtime': 21797}, 'recall': 0.527...   \n",
       "751  {'_step': 46, 'fscore': 0.5579019448823247, 'b...   \n",
       "752  {'precision': 0.5533549974802285, 'classificat...   \n",
       "753  {'_timestamp': 1711570628.1319556, 'conf_mat_t...   \n",
       "754  {'boxplot': {'size': 41441, '_type': 'image-fi...   \n",
       "\n",
       "                                                config  \\\n",
       "0    {'mu': 150, 'loss': 'daily_reward_lin_regr', '...   \n",
       "1    {'mu': 150, 'loss': 'daily_reward_lin_regr', '...   \n",
       "2    {'mu': 150, 'loss': 'daily_reward_lin_regr', '...   \n",
       "3    {'mu': 150, 'loss': 'daily_reward_lin_regr', '...   \n",
       "4    {'mu': 150, 'loss': 'daily_reward_lin_regr', '...   \n",
       "..                                                 ...   \n",
       "750  {'alpha': 0.5, 'device': 'cuda', 'epochs': 100...   \n",
       "751  {'alpha': 0.5, 'device': 'cpu', 'epochs': 100,...   \n",
       "752  {'alpha': 0.5, 'device': 'cuda', 'epochs': 100...   \n",
       "753  {'alpha': 0.5, 'device': 'cuda', 'epochs': 100...   \n",
       "754  {'alpha': 0.5, 'device': 'cuda', 'epochs': 100...   \n",
       "\n",
       "                          name                              sweep  \\\n",
       "0               soft-sweep-106  daily_reward_lin_regr_with_mus_v2   \n",
       "1            vibrant-sweep-105  daily_reward_lin_regr_with_mus_v2   \n",
       "2             winter-sweep-104  daily_reward_lin_regr_with_mus_v2   \n",
       "3             dainty-sweep-103  daily_reward_lin_regr_with_mus_v2   \n",
       "4           confused-sweep-102  daily_reward_lin_regr_with_mus_v2   \n",
       "..                         ...                                ...   \n",
       "750       TempCNN-seqlength150                               None   \n",
       "751          LSTM-seqlength150                               None   \n",
       "752        TempCNN-seqlength70                               None   \n",
       "753  ELECTS-LSTM-hiddendims=32                               None   \n",
       "754                ELECTS-LSTM                               None   \n",
       "\n",
       "              start_date  \n",
       "0    2024-06-07T18:30:04  \n",
       "1    2024-06-07T18:16:18  \n",
       "2    2024-06-07T18:15:55  \n",
       "3    2024-06-07T18:00:02  \n",
       "4    2024-06-07T17:32:01  \n",
       "..                   ...  \n",
       "750  2024-03-28T15:16:29  \n",
       "751  2024-03-28T15:15:39  \n",
       "752  2024-03-28T13:54:08  \n",
       "753  2024-03-27T14:55:09  \n",
       "754  2024-03-27T08:44:41  \n",
       "\n",
       "[755 rows x 5 columns]"
      ]
     },
     "execution_count": 3,
     "metadata": {},
     "output_type": "execute_result"
    }
   ],
   "source": [
    "api = wandb.Api()\n",
    "entity, project, sweep = \"aurenore\", \"MasterThesis\", \"x6ma4kpb\"\n",
    "runs = api.runs(entity + \"/\" + project)\n",
    "\n",
    "summary_list, config_list, name_list, sweep_list, start_date_list = [], [], [], [], []\n",
    "for run in runs:\n",
    "    # .summary contains output keys/values for\n",
    "    # metrics such as accuracy.\n",
    "    #  We call ._json_dict to omit large files\n",
    "    summary_list.append(run.summary._json_dict)\n",
    "\n",
    "    # .config contains the hyperparameters.\n",
    "    #  We remove special values that start with _.\n",
    "    config_list.append({k: v for k, v in run.config.items() if not k.startswith(\"_\")})\n",
    "\n",
    "    # .name is the human-readable name of the run.\n",
    "    name_list.append(run.name)\n",
    "    \n",
    "    if run.sweep:\n",
    "        sweep_list.append(run.sweep.name)\n",
    "    else:\n",
    "        sweep_list.append(None)\n",
    "        \n",
    "    start_date_list.append(run.createdAt)\n",
    "\n",
    "\n",
    "runs_df = pd.DataFrame(\n",
    "    {\"summary\": summary_list, \"config\": config_list, \"name\": name_list, \"sweep\": sweep_list, \"start_date\": start_date_list}\n",
    ")\n",
    "runs_df"
   ]
  },
  {
   "cell_type": "markdown",
   "metadata": {},
   "source": [
    "get the runs with certain sweep name, and created after a certain date"
   ]
  },
  {
   "cell_type": "code",
   "execution_count": 4,
   "metadata": {},
   "outputs": [],
   "source": [
    "sweep_name = \"daily_reward_lin_regr_with_mus_v2\"\n",
    "# get the best run\n",
    "df = runs_df[runs_df.sweep == sweep_name]\n"
   ]
  },
  {
   "cell_type": "markdown",
   "metadata": {},
   "source": [
    "Pick the run with the highest harmonic mean "
   ]
  },
  {
   "cell_type": "code",
   "execution_count": 5,
   "metadata": {},
   "outputs": [
    {
     "name": "stdout",
     "output_type": "stream",
     "text": [
      "chosen run:  stoic-sweep-70\n",
      "with harmonic_mean:  0.6690256704589369\n"
     ]
    }
   ],
   "source": [
    "# get the run with the highest harmonic mean\n",
    "metric = \"harmonic_mean\"\n",
    "chosen_run_idx = df.summary.apply(lambda x: x[metric]).idxmax()\n",
    "chosen_run = runs[chosen_run_idx]\n",
    "chosen_run_config = chosen_run.config\n",
    "print(\"chosen run: \", chosen_run.name)\n",
    "print(f\"with {metric}: \", chosen_run.summary._json_dict[metric])"
   ]
  },
  {
   "cell_type": "markdown",
   "metadata": {},
   "source": [
    "## Sequence of image to video "
   ]
  },
  {
   "cell_type": "code",
   "execution_count": 6,
   "metadata": {},
   "outputs": [
    {
     "name": "stdout",
     "output_type": "stream",
     "text": [
      "Downloading files which start with media/images/class_probabilities_wrt_time...\n",
      "Downloaded media/images/class_probabilities_wrt_time_11_a516e041d0c674491135.png\n",
      "Downloaded media/images/class_probabilities_wrt_time_1_02dd425f06d7caf5e836.png\n",
      "Downloaded media/images/class_probabilities_wrt_time_21_05a9c3ec0e8860693949.png\n",
      "Downloaded media/images/class_probabilities_wrt_time_31_4afedcf4adc965c2f7a1.png\n",
      "Downloaded media/images/class_probabilities_wrt_time_41_307fd7d9f5701cf2294e.png\n",
      "Downloaded media/images/class_probabilities_wrt_time_51_c589e341b8bf1556cf1c.png\n",
      "Downloaded media/images/class_probabilities_wrt_time_61_7e64eb07b0ba5b2819bd.png\n",
      "Downloaded media/images/class_probabilities_wrt_time_71_892606d43c00475c8181.png\n",
      "Downloaded media/images/class_probabilities_wrt_time_81_9b4c2beaf4d94f6c74d2.png\n",
      "Downloaded media/images/class_probabilities_wrt_time_91_40a6401e4648816e7d69.png\n",
      "Total downloaded: 10 files.\n"
     ]
    }
   ],
   "source": [
    "path = \"media/images/\"\n",
    "name_image = \"class_probabilities_wrt_time\"\n",
    "local_path = f\"../coding_test/media/{chosen_run.name}\"\n",
    "download_images(path, name_image, chosen_run, local_path)"
   ]
  },
  {
   "cell_type": "code",
   "execution_count": 7,
   "metadata": {},
   "outputs": [
    {
     "name": "stdout",
     "output_type": "stream",
     "text": [
      "imags_paths:  ['../coding_test/media/stoic-sweep-70\\\\media\\\\images\\\\class_probabilities_wrt_time_1_02dd425f06d7caf5e836.png', '../coding_test/media/stoic-sweep-70\\\\media\\\\images\\\\class_probabilities_wrt_time_11_a516e041d0c674491135.png', '../coding_test/media/stoic-sweep-70\\\\media\\\\images\\\\class_probabilities_wrt_time_21_05a9c3ec0e8860693949.png', '../coding_test/media/stoic-sweep-70\\\\media\\\\images\\\\class_probabilities_wrt_time_31_4afedcf4adc965c2f7a1.png', '../coding_test/media/stoic-sweep-70\\\\media\\\\images\\\\class_probabilities_wrt_time_41_307fd7d9f5701cf2294e.png', '../coding_test/media/stoic-sweep-70\\\\media\\\\images\\\\class_probabilities_wrt_time_51_c589e341b8bf1556cf1c.png', '../coding_test/media/stoic-sweep-70\\\\media\\\\images\\\\class_probabilities_wrt_time_61_7e64eb07b0ba5b2819bd.png', '../coding_test/media/stoic-sweep-70\\\\media\\\\images\\\\class_probabilities_wrt_time_71_892606d43c00475c8181.png', '../coding_test/media/stoic-sweep-70\\\\media\\\\images\\\\class_probabilities_wrt_time_81_9b4c2beaf4d94f6c74d2.png', '../coding_test/media/stoic-sweep-70\\\\media\\\\images\\\\class_probabilities_wrt_time_91_40a6401e4648816e7d69.png']\n"
     ]
    },
    {
     "name": "stderr",
     "output_type": "stream",
     "text": [
      "IMAGEIO FFMPEG_WRITER WARNING: input image is not divisible by macro_block_size=16, resizing from (1500, 4900) to (1504, 4912) to ensure video compatibility with most codecs and players. To prevent resizing, make your input image divisible by the macro_block_size or set the macro_block_size to 1 (risking incompatibility).\n"
     ]
    },
    {
     "name": "stdout",
     "output_type": "stream",
     "text": [
      "10 images added to the video.\n",
      "Video saved at ../coding_test/media/stoic-sweep-70\\media\\images\\class_probability_wrt_time.mp4\n"
     ]
    }
   ],
   "source": [
    "images_directory = os.path.join(local_path, \"media\", \"images\")\n",
    "images = add_files_to_images(images_directory, name_image)\n",
    "video_path = save_video(images_directory, images)"
   ]
  },
  {
   "cell_type": "code",
   "execution_count": 8,
   "metadata": {},
   "outputs": [
    {
     "data": {
      "text/html": [
       "<video src=\"../coding_test/media/stoic-sweep-70\\media\\images\\class_probability_wrt_time.mp4\" controls  >\n",
       "      Your browser does not support the <code>video</code> element.\n",
       "    </video>"
      ],
      "text/plain": [
       "<IPython.core.display.Video object>"
      ]
     },
     "execution_count": 8,
     "metadata": {},
     "output_type": "execute_result"
    }
   ],
   "source": [
    "# play video in the notebook\n",
    "Video(video_path)\n"
   ]
  },
  {
   "cell_type": "markdown",
   "metadata": {},
   "source": [
    "let's do the same for boxplots"
   ]
  },
  {
   "cell_type": "code",
   "execution_count": 9,
   "metadata": {},
   "outputs": [
    {
     "name": "stdout",
     "output_type": "stream",
     "text": [
      "Downloading files which start with media/images/boxplot...\n",
      "Downloaded media/images/boxplot_11_fb7bf87b3c90b6244ef1.png\n",
      "Downloaded media/images/boxplot_1_fb7bf87b3c90b6244ef1.png\n",
      "Downloaded media/images/boxplot_21_fb7bf87b3c90b6244ef1.png\n",
      "Downloaded media/images/boxplot_31_fb7bf87b3c90b6244ef1.png\n",
      "Downloaded media/images/boxplot_41_06b7dc0eefab886078a8.png\n",
      "Downloaded media/images/boxplot_51_47b2382713fbf95300d9.png\n",
      "Downloaded media/images/boxplot_61_3a905e0060713c790587.png\n",
      "Downloaded media/images/boxplot_71_087668b7de38a533c6ee.png\n",
      "Downloaded media/images/boxplot_81_01cb4c969b9e120c657e.png\n",
      "Downloaded media/images/boxplot_91_c381db22495a876a135f.png\n"
     ]
    },
    {
     "name": "stderr",
     "output_type": "stream",
     "text": [
      "IMAGEIO FFMPEG_WRITER WARNING: input image is not divisible by macro_block_size=16, resizing from (1500, 700) to (1504, 704) to ensure video compatibility with most codecs and players. To prevent resizing, make your input image divisible by the macro_block_size or set the macro_block_size to 1 (risking incompatibility).\n"
     ]
    },
    {
     "name": "stdout",
     "output_type": "stream",
     "text": [
      "Total downloaded: 10 files.\n",
      "imags_paths:  ['../coding_test/media/stoic-sweep-70\\\\media\\\\images\\\\boxplot_1_fb7bf87b3c90b6244ef1.png', '../coding_test/media/stoic-sweep-70\\\\media\\\\images\\\\boxplot_11_fb7bf87b3c90b6244ef1.png', '../coding_test/media/stoic-sweep-70\\\\media\\\\images\\\\boxplot_21_fb7bf87b3c90b6244ef1.png', '../coding_test/media/stoic-sweep-70\\\\media\\\\images\\\\boxplot_31_fb7bf87b3c90b6244ef1.png', '../coding_test/media/stoic-sweep-70\\\\media\\\\images\\\\boxplot_41_06b7dc0eefab886078a8.png', '../coding_test/media/stoic-sweep-70\\\\media\\\\images\\\\boxplot_51_47b2382713fbf95300d9.png', '../coding_test/media/stoic-sweep-70\\\\media\\\\images\\\\boxplot_61_3a905e0060713c790587.png', '../coding_test/media/stoic-sweep-70\\\\media\\\\images\\\\boxplot_71_087668b7de38a533c6ee.png', '../coding_test/media/stoic-sweep-70\\\\media\\\\images\\\\boxplot_81_01cb4c969b9e120c657e.png', '../coding_test/media/stoic-sweep-70\\\\media\\\\images\\\\boxplot_91_c381db22495a876a135f.png']\n",
      "10 images added to the video.\n",
      "Video saved at ../coding_test/media/stoic-sweep-70\\media\\images\\boxplot_video.mp4\n"
     ]
    },
    {
     "data": {
      "text/html": [
       "<video src=\"../coding_test/media/stoic-sweep-70\\media\\images\\boxplot_video.mp4\" controls  >\n",
       "      Your browser does not support the <code>video</code> element.\n",
       "    </video>"
      ],
      "text/plain": [
       "<IPython.core.display.Video object>"
      ]
     },
     "execution_count": 9,
     "metadata": {},
     "output_type": "execute_result"
    }
   ],
   "source": [
    "path = \"media/images/\"\n",
    "name_image = \"boxplot\"\n",
    "local_path = f\"../coding_test/media/{chosen_run.name}\"\n",
    "download_images(path, name_image, chosen_run, local_path)\n",
    "\n",
    "images_directory = os.path.join(local_path, \"media\", \"images\")\n",
    "images = add_files_to_images(images_directory, name_image)\n",
    "video_path = save_video(images_directory, images, name_image+\"_video.mp4\")\n",
    "\n",
    "Video(video_path)\n"
   ]
  },
  {
   "cell_type": "code",
   "execution_count": null,
   "metadata": {},
   "outputs": [],
   "source": []
  }
 ],
 "metadata": {
  "kernelspec": {
   "display_name": "venv",
   "language": "python",
   "name": "python3"
  },
  "language_info": {
   "codemirror_mode": {
    "name": "ipython",
    "version": 3
   },
   "file_extension": ".py",
   "mimetype": "text/x-python",
   "name": "python",
   "nbconvert_exporter": "python",
   "pygments_lexer": "ipython3",
   "version": "3.11.6"
  }
 },
 "nbformat": 4,
 "nbformat_minor": 2
}
