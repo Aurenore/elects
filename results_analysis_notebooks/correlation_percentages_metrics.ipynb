{
 "cells": [
  {
   "cell_type": "markdown",
   "metadata": {},
   "source": [
    "# Study the percentages and their relationship with the metrics \n"
   ]
  },
  {
   "cell_type": "code",
   "execution_count": 1,
   "metadata": {},
   "outputs": [],
   "source": [
    "%load_ext autoreload\n",
    "%autoreload 2"
   ]
  },
  {
   "cell_type": "code",
   "execution_count": 2,
   "metadata": {},
   "outputs": [],
   "source": [
    "import sys\n",
    "sys.path.append(\"..\")\n",
    "import os \n",
    "os.environ['MPLCONFIGDIR'] = '/myhome'\n",
    "from utils.plots import plot_label_distribution_datasets\n",
    "from utils.helpers_config import set_up_config, save_config\n",
    "from utils.helpers_testing import get_test_stats_from_model, load_test_dataset, save_test_stats\n",
    "from utils.plots_test import plots_all_figs_at_test\n",
    "import matplotlib.pyplot as plt\n",
    "from utils.test.load_model import get_all_runs, get_loaded_model_and_criterion, get_model_and_model_path\n",
    "from utils.helpers_mu import get_mus_from_config\n",
    "from utils.results_analysis.extract_video import download_images, add_files_to_images, save_video\n",
    "import argparse\n"
   ]
  },
  {
   "cell_type": "code",
   "execution_count": 3,
   "metadata": {},
   "outputs": [],
   "source": [
    "local_dataroot = os.path.join(os.environ.get(\"HOME\", os.environ.get(\"USERPROFILE\")),\"elects_data\")\n",
    "entity, project = \"aurenore\", \"MasterThesis\"\n",
    "sweep = \"piecewise_lin_regr_with_wrong_pred_penalties_4\"\n"
   ]
  },
  {
   "cell_type": "markdown",
   "metadata": {},
   "source": [
    "load the runs of the sweep "
   ]
  },
  {
   "cell_type": "code",
   "execution_count": 4,
   "metadata": {},
   "outputs": [
    {
     "name": "stdout",
     "output_type": "stream",
     "text": [
      "Local dataroot:  C:\\Users\\anyam\\elects_data\n",
      "number of runs:  115\n"
     ]
    },
    {
     "data": {
      "text/html": [
       "<div>\n",
       "<style scoped>\n",
       "    .dataframe tbody tr th:only-of-type {\n",
       "        vertical-align: middle;\n",
       "    }\n",
       "\n",
       "    .dataframe tbody tr th {\n",
       "        vertical-align: top;\n",
       "    }\n",
       "\n",
       "    .dataframe thead th {\n",
       "        text-align: right;\n",
       "    }\n",
       "</style>\n",
       "<table border=\"1\" class=\"dataframe\">\n",
       "  <thead>\n",
       "    <tr style=\"text-align: right;\">\n",
       "      <th></th>\n",
       "      <th>summary</th>\n",
       "      <th>config</th>\n",
       "      <th>name</th>\n",
       "      <th>sweep</th>\n",
       "      <th>start_date</th>\n",
       "    </tr>\n",
       "  </thead>\n",
       "  <tbody>\n",
       "    <tr>\n",
       "      <th>0</th>\n",
       "      <td>{'elects_earliness': 0.6484803387303276, 'time...</td>\n",
       "      <td>{'mu': 150, 'mus': [171, 102, 103, 144, 150, 1...</td>\n",
       "      <td>amber-sweep-115</td>\n",
       "      <td>piecewise_lin_regr_with_wrong_pred_penalties_4</td>\n",
       "      <td>2024-06-20T11:41:47</td>\n",
       "    </tr>\n",
       "    <tr>\n",
       "      <th>1</th>\n",
       "      <td>{'loss': {'testloss': 5.931120872497559, 'trai...</td>\n",
       "      <td>{'mu': 150, 'mus': [102, 98, 25, 102, 150, 150...</td>\n",
       "      <td>crisp-sweep-114</td>\n",
       "      <td>piecewise_lin_regr_with_wrong_pred_penalties_4</td>\n",
       "      <td>2024-06-20T11:34:59</td>\n",
       "    </tr>\n",
       "    <tr>\n",
       "      <th>2</th>\n",
       "      <td>{'_wandb': {'runtime': 3933}, 'alphas': [0.5, ...</td>\n",
       "      <td>{'mu': 150, 'mus': [173, 113, 105, 142, 150, 1...</td>\n",
       "      <td>pious-sweep-113</td>\n",
       "      <td>piecewise_lin_regr_with_wrong_pred_penalties_4</td>\n",
       "      <td>2024-06-20T11:28:07</td>\n",
       "    </tr>\n",
       "    <tr>\n",
       "      <th>3</th>\n",
       "      <td>{'_runtime': 3200.3417558670044, 'precision': ...</td>\n",
       "      <td>{'mu': 150, 'mus': [102, 96, 26, 104, 150, 150...</td>\n",
       "      <td>dark-sweep-112</td>\n",
       "      <td>piecewise_lin_regr_with_wrong_pred_penalties_4</td>\n",
       "      <td>2024-06-20T11:23:55</td>\n",
       "    </tr>\n",
       "    <tr>\n",
       "      <th>4</th>\n",
       "      <td>{'_wandb': {'runtime': 3985}, 'alphas': [0.899...</td>\n",
       "      <td>{'mu': 150, 'mus': [102, 92, 25, 104, 150, 150...</td>\n",
       "      <td>rose-sweep-111</td>\n",
       "      <td>piecewise_lin_regr_with_wrong_pred_penalties_4</td>\n",
       "      <td>2024-06-20T11:15:36</td>\n",
       "    </tr>\n",
       "  </tbody>\n",
       "</table>\n",
       "</div>"
      ],
      "text/plain": [
       "                                             summary  \\\n",
       "0  {'elects_earliness': 0.6484803387303276, 'time...   \n",
       "1  {'loss': {'testloss': 5.931120872497559, 'trai...   \n",
       "2  {'_wandb': {'runtime': 3933}, 'alphas': [0.5, ...   \n",
       "3  {'_runtime': 3200.3417558670044, 'precision': ...   \n",
       "4  {'_wandb': {'runtime': 3985}, 'alphas': [0.899...   \n",
       "\n",
       "                                              config             name  \\\n",
       "0  {'mu': 150, 'mus': [171, 102, 103, 144, 150, 1...  amber-sweep-115   \n",
       "1  {'mu': 150, 'mus': [102, 98, 25, 102, 150, 150...  crisp-sweep-114   \n",
       "2  {'mu': 150, 'mus': [173, 113, 105, 142, 150, 1...  pious-sweep-113   \n",
       "3  {'mu': 150, 'mus': [102, 96, 26, 104, 150, 150...   dark-sweep-112   \n",
       "4  {'mu': 150, 'mus': [102, 92, 25, 104, 150, 150...   rose-sweep-111   \n",
       "\n",
       "                                            sweep           start_date  \n",
       "0  piecewise_lin_regr_with_wrong_pred_penalties_4  2024-06-20T11:41:47  \n",
       "1  piecewise_lin_regr_with_wrong_pred_penalties_4  2024-06-20T11:34:59  \n",
       "2  piecewise_lin_regr_with_wrong_pred_penalties_4  2024-06-20T11:28:07  \n",
       "3  piecewise_lin_regr_with_wrong_pred_penalties_4  2024-06-20T11:23:55  \n",
       "4  piecewise_lin_regr_with_wrong_pred_penalties_4  2024-06-20T11:15:36  "
      ]
     },
     "execution_count": 4,
     "metadata": {},
     "output_type": "execute_result"
    }
   ],
   "source": [
    "print(\"Local dataroot: \", local_dataroot)\n",
    "\n",
    "# ## Download the model from wandb \n",
    "runs_df, runs = get_all_runs(entity, project)\n",
    "\n",
    "# get the runs from the sweep \n",
    "df = runs_df[runs_df.sweep == sweep]\n",
    "print(\"number of runs: \", len(df))  \n",
    "df.head()"
   ]
  },
  {
   "cell_type": "markdown",
   "metadata": {},
   "source": [
    "The loss is written as:\n",
    "\n",
    "$$ \\alpha_1 C_m - \\alpha_2 C_d + \\alpha_3 C_{penalty} + \\alpha_4 C_{lr} $$\n",
    "where \n",
    "- $C_m$ is the misclassification cost \n",
    "- $C_d$ is the earliness reward\n",
    "- $C_{penalty}$ is the early wrong prediction penalty\n",
    "- $C_{lr}$ is the piecewise linear regression cost\n",
    "- $\\alpha_i$ are the weights for $i=1,2,3,4$\n",
    "\n",
    "$\\alpha_1$ is fixed at 1. at the beginning of the training and decays linearly through the training. The other alphas are given by a their corresponding percentage $p_{\\alpha_i}$ and the current value of $\\alpha_1$ as follows:\n",
    "$$ \\alpha_i = p_{\\alpha_i} (1 - \\alpha_1)$$\n",
    "\n",
    "That way the sum of the weights is always 1."
   ]
  },
  {
   "cell_type": "code",
   "execution_count": 18,
   "metadata": {},
   "outputs": [],
   "source": [
    "df.loc[:, \"percentages_alphas\"] = df.loc[:, \"config\"].apply(lambda x: x[\"percentages_other_alphas\"])\n",
    "df.loc[:, \"percentage_alpha_1\"] = df.loc[:, \"percentages_alphas\"].apply(lambda x: x[0])\n",
    "df.loc[:, \"percentage_alpha_2\"] = df.loc[:, \"percentages_alphas\"].apply(lambda x: x[1])\n",
    "df.loc[:, \"percentage_alpha_3\"] = df.loc[:, \"percentages_alphas\"].apply(lambda x: x[2])\n",
    "df.loc[:, \"alphas\"] = df.loc[:, \"summary\"].apply(lambda x: x[\"alphas\"])\n",
    "\n",
    "df.loc[:, \"earliness\"] = df.loc[:, \"summary\"].apply(lambda x: x[\"elects_earliness\"])\n",
    "df.loc[:, \"accuracy\"] = df.loc[:, \"summary\"].apply(lambda x: x[\"accuracy\"])\n",
    "df.loc[:, \"harmonic_mean\"] = df.loc[:, \"summary\"].apply(lambda x: x[\"harmonic_mean\"])"
   ]
  },
  {
   "cell_type": "code",
   "execution_count": 16,
   "metadata": {},
   "outputs": [
    {
     "data": {
      "text/plain": [
       "0      [0.699999988079071, 0.07762829214334488, 0.037...\n",
       "1      [0.699999988079071, 0.1269819587469101, 0.0211...\n",
       "2      [0.5, 0.05641905218362808, 0.3937248885631562,...\n",
       "3      [0.9237499833106996, 0.011222507804632189, 0.0...\n",
       "4      [0.8999999761581421, 0.01832260750234127, 0.00...\n",
       "                             ...                        \n",
       "110    [0.699999988079071, 0.09069057554006577, 0.091...\n",
       "111    [0.9277777671813964, 0.0018344582058489325, 0....\n",
       "112    [0.7699999809265137, 0.1678219735622406, 0.039...\n",
       "113    [0.7551020383834839, 0.10898122936487198, 0.04...\n",
       "114    [0.9144444465637208, 0.0437154658138752, 0.027...\n",
       "Name: alphas, Length: 115, dtype: object"
      ]
     },
     "execution_count": 16,
     "metadata": {},
     "output_type": "execute_result"
    }
   ],
   "source": [
    "df[\"alphas\"]"
   ]
  },
  {
   "cell_type": "markdown",
   "metadata": {},
   "source": [
    "# Correlations between the percentages and the metrics\n",
    "metrics : \n",
    "- accuracy \n",
    "- earliness\n",
    "- harmonic mean of accuracy and earliness"
   ]
  },
  {
   "cell_type": "code",
   "execution_count": 19,
   "metadata": {},
   "outputs": [
    {
     "data": {
      "text/plain": [
       "0.25158199574749956"
      ]
     },
     "execution_count": 19,
     "metadata": {},
     "output_type": "execute_result"
    }
   ],
   "source": [
    "import numpy as np \n",
    "\n",
    "def compute_correlation(metric_1, metric_2):\n",
    "    \"\"\" Compute the correlation between two metrics \"\"\"\n",
    "    return np.corrcoef(metric_1, metric_2)[0, 1]\n",
    "\n",
    "compute_correlation(df[\"percentage_alpha_1\"], df[\"earliness\"])"
   ]
  },
  {
   "cell_type": "code",
   "execution_count": 24,
   "metadata": {},
   "outputs": [
    {
     "data": {
      "text/html": [
       "<div>\n",
       "<style scoped>\n",
       "    .dataframe tbody tr th:only-of-type {\n",
       "        vertical-align: middle;\n",
       "    }\n",
       "\n",
       "    .dataframe tbody tr th {\n",
       "        vertical-align: top;\n",
       "    }\n",
       "\n",
       "    .dataframe thead th {\n",
       "        text-align: right;\n",
       "    }\n",
       "</style>\n",
       "<table border=\"1\" class=\"dataframe\">\n",
       "  <thead>\n",
       "    <tr style=\"text-align: right;\">\n",
       "      <th></th>\n",
       "      <th>earliness</th>\n",
       "      <th>accuracy</th>\n",
       "      <th>harmonic_mean</th>\n",
       "    </tr>\n",
       "  </thead>\n",
       "  <tbody>\n",
       "    <tr>\n",
       "      <th>percentage_alpha_1</th>\n",
       "      <td>0.251582</td>\n",
       "      <td>-0.228036</td>\n",
       "      <td>-0.159191</td>\n",
       "    </tr>\n",
       "    <tr>\n",
       "      <th>percentage_alpha_2</th>\n",
       "      <td>-0.235076</td>\n",
       "      <td>0.257570</td>\n",
       "      <td>0.229097</td>\n",
       "    </tr>\n",
       "    <tr>\n",
       "      <th>percentage_alpha_3</th>\n",
       "      <td>-0.002188</td>\n",
       "      <td>-0.038647</td>\n",
       "      <td>-0.071988</td>\n",
       "    </tr>\n",
       "  </tbody>\n",
       "</table>\n",
       "</div>"
      ],
      "text/plain": [
       "                    earliness  accuracy  harmonic_mean\n",
       "percentage_alpha_1   0.251582 -0.228036      -0.159191\n",
       "percentage_alpha_2  -0.235076  0.257570       0.229097\n",
       "percentage_alpha_3  -0.002188 -0.038647      -0.071988"
      ]
     },
     "execution_count": 24,
     "metadata": {},
     "output_type": "execute_result"
    }
   ],
   "source": [
    "df_correlations = df[[\"percentage_alpha_1\", \"percentage_alpha_2\", \"percentage_alpha_3\", \"earliness\", \"accuracy\", \"harmonic_mean\"]].corr()\n",
    "df_correlations.loc[[\"percentage_alpha_1\", \"percentage_alpha_2\", \"percentage_alpha_3\"],[\"earliness\", \"accuracy\", \"harmonic_mean\"]]"
   ]
  },
  {
   "cell_type": "markdown",
   "metadata": {},
   "source": [
    "with alphas: "
   ]
  },
  {
   "cell_type": "code",
   "execution_count": 31,
   "metadata": {},
   "outputs": [
    {
     "name": "stderr",
     "output_type": "stream",
     "text": [
      "C:\\Users\\anyam\\AppData\\Local\\Temp\\ipykernel_51256\\1825515665.py:2: SettingWithCopyWarning: \n",
      "A value is trying to be set on a copy of a slice from a DataFrame.\n",
      "Try using .loc[row_indexer,col_indexer] = value instead\n",
      "\n",
      "See the caveats in the documentation: https://pandas.pydata.org/pandas-docs/stable/user_guide/indexing.html#returning-a-view-versus-a-copy\n",
      "  df_alphas.loc[:, \"alpha_1\"] = df_alphas.loc[:, \"alphas\"].apply(lambda x: x[0])\n",
      "C:\\Users\\anyam\\AppData\\Local\\Temp\\ipykernel_51256\\1825515665.py:3: SettingWithCopyWarning: \n",
      "A value is trying to be set on a copy of a slice from a DataFrame.\n",
      "Try using .loc[row_indexer,col_indexer] = value instead\n",
      "\n",
      "See the caveats in the documentation: https://pandas.pydata.org/pandas-docs/stable/user_guide/indexing.html#returning-a-view-versus-a-copy\n",
      "  df_alphas.loc[:, \"alpha_2\"] = df_alphas.loc[:, \"alphas\"].apply(lambda x: x[1])\n",
      "C:\\Users\\anyam\\AppData\\Local\\Temp\\ipykernel_51256\\1825515665.py:4: SettingWithCopyWarning: \n",
      "A value is trying to be set on a copy of a slice from a DataFrame.\n",
      "Try using .loc[row_indexer,col_indexer] = value instead\n",
      "\n",
      "See the caveats in the documentation: https://pandas.pydata.org/pandas-docs/stable/user_guide/indexing.html#returning-a-view-versus-a-copy\n",
      "  df_alphas.loc[:, \"alpha_3\"] = df_alphas.loc[:, \"alphas\"].apply(lambda x: x[2])\n",
      "C:\\Users\\anyam\\AppData\\Local\\Temp\\ipykernel_51256\\1825515665.py:5: SettingWithCopyWarning: \n",
      "A value is trying to be set on a copy of a slice from a DataFrame.\n",
      "Try using .loc[row_indexer,col_indexer] = value instead\n",
      "\n",
      "See the caveats in the documentation: https://pandas.pydata.org/pandas-docs/stable/user_guide/indexing.html#returning-a-view-versus-a-copy\n",
      "  df_alphas.loc[:, \"alpha_4\"] = df_alphas.loc[:, \"alphas\"].apply(lambda x: x[3])\n"
     ]
    }
   ],
   "source": [
    "df_alphas = df[[\"alphas\", \"earliness\", \"accuracy\", \"harmonic_mean\"]]\n",
    "df_alphas.loc[:, \"alpha_1\"] = df_alphas.loc[:, \"alphas\"].apply(lambda x: x[0])\n",
    "df_alphas.loc[:, \"alpha_2\"] = df_alphas.loc[:, \"alphas\"].apply(lambda x: x[1])\n",
    "df_alphas.loc[:, \"alpha_3\"] = df_alphas.loc[:, \"alphas\"].apply(lambda x: x[2])\n",
    "df_alphas.loc[:, \"alpha_4\"] = df_alphas.loc[:, \"alphas\"].apply(lambda x: x[3])\n"
   ]
  },
  {
   "cell_type": "code",
   "execution_count": 32,
   "metadata": {},
   "outputs": [
    {
     "data": {
      "text/html": [
       "<div>\n",
       "<style scoped>\n",
       "    .dataframe tbody tr th:only-of-type {\n",
       "        vertical-align: middle;\n",
       "    }\n",
       "\n",
       "    .dataframe tbody tr th {\n",
       "        vertical-align: top;\n",
       "    }\n",
       "\n",
       "    .dataframe thead th {\n",
       "        text-align: right;\n",
       "    }\n",
       "</style>\n",
       "<table border=\"1\" class=\"dataframe\">\n",
       "  <thead>\n",
       "    <tr style=\"text-align: right;\">\n",
       "      <th></th>\n",
       "      <th>earliness</th>\n",
       "      <th>accuracy</th>\n",
       "      <th>harmonic_mean</th>\n",
       "    </tr>\n",
       "  </thead>\n",
       "  <tbody>\n",
       "    <tr>\n",
       "      <th>alpha_1</th>\n",
       "      <td>0.144029</td>\n",
       "      <td>-0.265138</td>\n",
       "      <td>-0.212594</td>\n",
       "    </tr>\n",
       "    <tr>\n",
       "      <th>alpha_2</th>\n",
       "      <td>0.112238</td>\n",
       "      <td>0.000178</td>\n",
       "      <td>0.073185</td>\n",
       "    </tr>\n",
       "    <tr>\n",
       "      <th>alpha_3</th>\n",
       "      <td>-0.239713</td>\n",
       "      <td>0.335556</td>\n",
       "      <td>0.286007</td>\n",
       "    </tr>\n",
       "    <tr>\n",
       "      <th>alpha_4</th>\n",
       "      <td>-0.120868</td>\n",
       "      <td>0.162248</td>\n",
       "      <td>0.067077</td>\n",
       "    </tr>\n",
       "  </tbody>\n",
       "</table>\n",
       "</div>"
      ],
      "text/plain": [
       "         earliness  accuracy  harmonic_mean\n",
       "alpha_1   0.144029 -0.265138      -0.212594\n",
       "alpha_2   0.112238  0.000178       0.073185\n",
       "alpha_3  -0.239713  0.335556       0.286007\n",
       "alpha_4  -0.120868  0.162248       0.067077"
      ]
     },
     "execution_count": 32,
     "metadata": {},
     "output_type": "execute_result"
    }
   ],
   "source": [
    "df_corr_alphas = df_alphas[[\"alpha_1\", \"alpha_2\", \"alpha_3\", \"alpha_4\", \"earliness\", \"accuracy\", \"harmonic_mean\"]].corr()\n",
    "df_corr_alphas.loc[[\"alpha_1\", \"alpha_2\", \"alpha_3\", \"alpha_4\"],[\"earliness\", \"accuracy\", \"harmonic_mean\"]]"
   ]
  }
 ],
 "metadata": {
  "kernelspec": {
   "display_name": "venv",
   "language": "python",
   "name": "python3"
  },
  "language_info": {
   "codemirror_mode": {
    "name": "ipython",
    "version": 3
   },
   "file_extension": ".py",
   "mimetype": "text/x-python",
   "name": "python",
   "nbconvert_exporter": "python",
   "pygments_lexer": "ipython3",
   "version": "3.11.6"
  }
 },
 "nbformat": 4,
 "nbformat_minor": 2
}
