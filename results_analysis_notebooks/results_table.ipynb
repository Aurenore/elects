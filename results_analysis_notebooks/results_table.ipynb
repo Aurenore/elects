{
 "cells": [
  {
   "cell_type": "markdown",
   "metadata": {},
   "source": [
    "# Create Results table \n",
    "Create a table from the runs given, such that the table has the following columns:\n",
    "- accuracy\n",
    "- earliness\n",
    "- harmonic mean \n",
    "- std score\n",
    "\n"
   ]
  },
  {
   "cell_type": "code",
   "execution_count": 1,
   "metadata": {},
   "outputs": [],
   "source": [
    "import sys\n",
    "sys.path.append(\"..\")\n",
    "import os \n",
    "os.environ['MPLCONFIGDIR'] = '/myhome'\n",
    "import pandas as pd\n",
    "from utils.test.load_model import get_all_runs, get_loaded_model_and_criterion, get_model_and_model_path\n",
    "from utils.test.results_table import create_results_table, get_latex_table\n"
   ]
  },
  {
   "cell_type": "code",
   "execution_count": 2,
   "metadata": {},
   "outputs": [],
   "source": [
    "local_dataroot = os.path.join(os.environ.get(\"HOME\", os.environ.get(\"USERPROFILE\")),\"elects_data\")\n",
    "run_names = [\"silver-sweep-238\", \"ancient-sweep-411\"]"
   ]
  },
  {
   "cell_type": "code",
   "execution_count": 3,
   "metadata": {},
   "outputs": [],
   "source": [
    "# ## Download the model from wandb \n",
    "entity, project = \"aurenore\", \"MasterThesis\"\n",
    "runs_df, runs = get_all_runs(entity, project)"
   ]
  },
  {
   "cell_type": "code",
   "execution_count": 4,
   "metadata": {},
   "outputs": [
    {
     "name": "stdout",
     "output_type": "stream",
     "text": [
      "run:  silver-sweep-238\n"
     ]
    },
    {
     "name": "stderr",
     "output_type": "stream",
     "text": [
      "\u001b[34m\u001b[1mwandb\u001b[0m:   1 of 1 files downloaded.  \n"
     ]
    },
    {
     "name": "stdout",
     "output_type": "stream",
     "text": [
      "Test stats already exist in c:\\Users\\anyam\\Desktop\\Master_thesis\\Code\\elects\\results_analysis_notebooks\\artifacts\\run-8a82pjoc-model.pth-v22\\test_stats.json\n",
      "****************************************************************************************************\n",
      "run:  ancient-sweep-411\n"
     ]
    },
    {
     "name": "stderr",
     "output_type": "stream",
     "text": [
      "\u001b[34m\u001b[1mwandb\u001b[0m:   1 of 1 files downloaded.  \n"
     ]
    },
    {
     "name": "stdout",
     "output_type": "stream",
     "text": [
      "Test stats already exist in c:\\Users\\anyam\\Desktop\\Master_thesis\\Code\\elects\\results_analysis_notebooks\\artifacts\\run-5dazxzo8-model.pth-v27\\test_stats.json\n",
      "****************************************************************************************************\n"
     ]
    }
   ],
   "source": [
    "results_table = create_results_table(run_names, runs_df, runs, local_dataroot)"
   ]
  },
  {
   "cell_type": "code",
   "execution_count": 5,
   "metadata": {},
   "outputs": [
    {
     "data": {
      "text/plain": [
       "{'silver-sweep-238': {'accuracy': 0.5828381329676469,\n",
       "  'elects_earliness': 0.6497917618975062,\n",
       "  'harmonic_mean': 0.6144965636478121,\n",
       "  'std_score': 46.98214862567751,\n",
       "  'Wrong pred. penalty': 'v2'},\n",
       " 'ancient-sweep-411': {'accuracy': 0.7415054091116867,\n",
       "  'elects_earliness': 0.6046755063210951,\n",
       "  'harmonic_mean': 0.6661365549819788,\n",
       "  'std_score': 27.424230811484176,\n",
       "  'Wrong pred. penalty': 'v1'}}"
      ]
     },
     "execution_count": 5,
     "metadata": {},
     "output_type": "execute_result"
    }
   ],
   "source": [
    "results_table"
   ]
  },
  {
   "cell_type": "code",
   "execution_count": 6,
   "metadata": {},
   "outputs": [
    {
     "name": "stdout",
     "output_type": "stream",
     "text": [
      "\\begin{tabular}{lllll}\n",
      "\\toprule\n",
      "Wrong pred. penalty & Accuracy & Earliness & Harmonic Mean & STD score \\\\\n",
      "\\midrule\n",
      "v2 & 0.58 & 0.65 & 0.61 & 46.98 \\\\\n",
      "v1 & 0.74 & 0.60 & 0.67 & 27.42 \\\\\n",
      "\\bottomrule\n",
      "\\end{tabular}\n",
      "\n"
     ]
    }
   ],
   "source": [
    "latex_table = get_latex_table(results_table)\n",
    "print(latex_table)"
   ]
  }
 ],
 "metadata": {
  "kernelspec": {
   "display_name": "venv",
   "language": "python",
   "name": "python3"
  },
  "language_info": {
   "codemirror_mode": {
    "name": "ipython",
    "version": 3
   },
   "file_extension": ".py",
   "mimetype": "text/x-python",
   "name": "python",
   "nbconvert_exporter": "python",
   "pygments_lexer": "ipython3",
   "version": "3.11.6"
  }
 },
 "nbformat": 4,
 "nbformat_minor": 2
}
