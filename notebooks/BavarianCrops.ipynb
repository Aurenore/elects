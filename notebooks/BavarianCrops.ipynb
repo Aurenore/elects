{
 "cells": [
  {
   "cell_type": "markdown",
   "id": "e15f7ce3",
   "metadata": {},
   "source": [
    "# BavarianCrops"
   ]
  },
  {
   "cell_type": "code",
   "execution_count": 32,
   "id": "250396e9",
   "metadata": {},
   "outputs": [],
   "source": [
    "import sys\n",
    "sys.path.append(\"..\")\n",
    "from argparse import Namespace\n",
    "from data import BavarianCrops, BreizhCrops\n",
    "from torch.utils.data import DataLoader\n",
    "from tqdm.notebook import tqdm\n",
    "import numpy as np\n",
    "from sklearn.metrics import classification_report, accuracy_score, cohen_kappa_score, recall_score, precision_score\n",
    "import matplotlib.pyplot as plt\n",
    "\n",
    "\n",
    "from earlyrnn import EarlyRNN\n",
    "import torch\n",
    "import os\n",
    "import pandas as pd\n",
    "from datetime import datetime\n",
    "import numpy as np\n",
    "\n",
    "import datetime\n",
    "import seaborn\n",
    "\n",
    "data_root = \"../elects_data\"\n",
    "device = \"cuda\" if torch.cuda.is_available() else \"cpu\""
   ]
  },
  {
   "cell_type": "code",
   "execution_count": 33,
   "id": "ef380e97",
   "metadata": {},
   "outputs": [
    {
     "name": "stdout",
     "output_type": "stream",
     "text": [
      "no dataset found in ../elects_data/holl. downloading...\n",
      "Downloading ../elects_data/holl.tar.gz\n",
      "[=                                                 ]"
     ]
    },
    {
     "name": "stderr",
     "output_type": "stream",
     "text": [
      "IOPub message rate exceeded.\n",
      "The notebook server will temporarily stop sending output\n",
      "to the client in order to avoid crashing it.\n",
      "To change this limit, set the config variable\n",
      "`--NotebookApp.iopub_msg_rate_limit`.\n",
      "\n",
      "Current values:\n",
      "NotebookApp.iopub_msg_rate_limit=1000.0 (msgs/sec)\n",
      "NotebookApp.rate_limit_window=3.0 (secs)\n",
      "\n"
     ]
    },
    {
     "name": "stdout",
     "output_type": "stream",
     "text": [
      "[=======                                           ]"
     ]
    },
    {
     "name": "stderr",
     "output_type": "stream",
     "text": [
      "IOPub message rate exceeded.\n",
      "The notebook server will temporarily stop sending output\n",
      "to the client in order to avoid crashing it.\n",
      "To change this limit, set the config variable\n",
      "`--NotebookApp.iopub_msg_rate_limit`.\n",
      "\n",
      "Current values:\n",
      "NotebookApp.iopub_msg_rate_limit=1000.0 (msgs/sec)\n",
      "NotebookApp.rate_limit_window=3.0 (secs)\n",
      "\n"
     ]
    },
    {
     "name": "stdout",
     "output_type": "stream",
     "text": [
      "[=============                                     ]"
     ]
    },
    {
     "name": "stderr",
     "output_type": "stream",
     "text": [
      "IOPub message rate exceeded.\n",
      "The notebook server will temporarily stop sending output\n",
      "to the client in order to avoid crashing it.\n",
      "To change this limit, set the config variable\n",
      "`--NotebookApp.iopub_msg_rate_limit`.\n",
      "\n",
      "Current values:\n",
      "NotebookApp.iopub_msg_rate_limit=1000.0 (msgs/sec)\n",
      "NotebookApp.rate_limit_window=3.0 (secs)\n",
      "\n"
     ]
    },
    {
     "name": "stdout",
     "output_type": "stream",
     "text": [
      "[======================                            ]"
     ]
    },
    {
     "name": "stderr",
     "output_type": "stream",
     "text": [
      "IOPub message rate exceeded.\n",
      "The notebook server will temporarily stop sending output\n",
      "to the client in order to avoid crashing it.\n",
      "To change this limit, set the config variable\n",
      "`--NotebookApp.iopub_msg_rate_limit`.\n",
      "\n",
      "Current values:\n",
      "NotebookApp.iopub_msg_rate_limit=1000.0 (msgs/sec)\n",
      "NotebookApp.rate_limit_window=3.0 (secs)\n",
      "\n"
     ]
    },
    {
     "name": "stdout",
     "output_type": "stream",
     "text": [
      "[============================                      ]"
     ]
    },
    {
     "name": "stderr",
     "output_type": "stream",
     "text": [
      "IOPub message rate exceeded.\n",
      "The notebook server will temporarily stop sending output\n",
      "to the client in order to avoid crashing it.\n",
      "To change this limit, set the config variable\n",
      "`--NotebookApp.iopub_msg_rate_limit`.\n",
      "\n",
      "Current values:\n",
      "NotebookApp.iopub_msg_rate_limit=1000.0 (msgs/sec)\n",
      "NotebookApp.rate_limit_window=3.0 (secs)\n",
      "\n"
     ]
    },
    {
     "name": "stdout",
     "output_type": "stream",
     "text": [
      "[==================================                ]"
     ]
    },
    {
     "name": "stderr",
     "output_type": "stream",
     "text": [
      "IOPub message rate exceeded.\n",
      "The notebook server will temporarily stop sending output\n",
      "to the client in order to avoid crashing it.\n",
      "To change this limit, set the config variable\n",
      "`--NotebookApp.iopub_msg_rate_limit`.\n",
      "\n",
      "Current values:\n",
      "NotebookApp.iopub_msg_rate_limit=1000.0 (msgs/sec)\n",
      "NotebookApp.rate_limit_window=3.0 (secs)\n",
      "\n"
     ]
    },
    {
     "name": "stdout",
     "output_type": "stream",
     "text": [
      "[=======================================           ]"
     ]
    },
    {
     "name": "stderr",
     "output_type": "stream",
     "text": [
      "IOPub message rate exceeded.\n",
      "The notebook server will temporarily stop sending output\n",
      "to the client in order to avoid crashing it.\n",
      "To change this limit, set the config variable\n",
      "`--NotebookApp.iopub_msg_rate_limit`.\n",
      "\n",
      "Current values:\n",
      "NotebookApp.iopub_msg_rate_limit=1000.0 (msgs/sec)\n",
      "NotebookApp.rate_limit_window=3.0 (secs)\n",
      "\n"
     ]
    },
    {
     "name": "stdout",
     "output_type": "stream",
     "text": [
      "[=============================================     ]"
     ]
    },
    {
     "name": "stderr",
     "output_type": "stream",
     "text": [
      "IOPub message rate exceeded.\n",
      "The notebook server will temporarily stop sending output\n",
      "to the client in order to avoid crashing it.\n",
      "To change this limit, set the config variable\n",
      "`--NotebookApp.iopub_msg_rate_limit`.\n",
      "\n",
      "Current values:\n",
      "NotebookApp.iopub_msg_rate_limit=1000.0 (msgs/sec)\n",
      "NotebookApp.rate_limit_window=3.0 (secs)\n",
      "\n"
     ]
    }
   ],
   "source": [
    "test_ds = BavarianCrops(root=data_root,partition=\"eval\", sequencelength=150, return_ids=True)\n",
    "\n",
    "nclasses = 7\n",
    "input_dim = 13\n",
    "model = EarlyRNN(nclasses=nclasses, input_dim=input_dim).to(args.device)\n",
    "model.load_state_dict(torch.load(\"../snapshots/bavariancrops.pth\"))\n",
    "model.eval()"
   ]
  },
  {
   "cell_type": "markdown",
   "id": "8f91e529",
   "metadata": {},
   "source": [
    "## Load Day of Year per Field"
   ]
  },
  {
   "cell_type": "code",
   "execution_count": 38,
   "id": "255025d7",
   "metadata": {},
   "outputs": [],
   "source": [
    "npydoy_url = \"https://elects.s3.eu-central-1.amazonaws.com/bavariancropsdoys.npy\"\n",
    "npydoy = 'bavariancropsdoys.npy'\n",
    "\n",
    "if not os.path.exists(npydoy):\n",
    "    !wget $npydoy_url\n",
    "    \n",
    "doys_dict = np.load(npydoy, allow_pickle=True).flat[0]"
   ]
  },
  {
   "cell_type": "markdown",
   "id": "0f575f57",
   "metadata": {},
   "source": [
    "## Test Functions"
   ]
  },
  {
   "cell_type": "code",
   "execution_count": 34,
   "id": "2e3aab04",
   "metadata": {},
   "outputs": [],
   "source": [
    "\n",
    "def test(snapshot_path):\n",
    "    \"\"\"\n",
    "    loads snapshot of model weights and tests it on\n",
    "    \"\"\"\n",
    "\n",
    "    with torch.no_grad():\n",
    "\n",
    "        nclasses = 7\n",
    "        input_dim = 13\n",
    "        model = EarlyRNN(nclasses=nclasses, input_dim=input_dim).to(args.device)\n",
    "        model.load_state_dict(torch.load(snapshot_path))\n",
    "        model.eval()\n",
    "\n",
    "        dataloader = DataLoader(test_ds, batch_size=256)\n",
    "        device = args.device\n",
    "        model.eval()\n",
    "\n",
    "        stats = []\n",
    "        losses = []\n",
    "        slengths = []\n",
    "        for batch in tqdm(dataloader, leave=False):\n",
    "            X, y_true, ids = batch\n",
    "            X, y_true = X.to(device), y_true.to(device)\n",
    "\n",
    "            seqlengths = (X[:,:,0] != 0).sum(1)\n",
    "            \n",
    "\n",
    "            log_class_probabilities, probability_stopping, predictions_at_t_stop, t_stop = model.predict(X)\n",
    "            \n",
    "            # since data is padded with 0, it is possible that t_stop is after the end of sequence (negative earliness). \n",
    "            # we clip the t_stop to the maximum sequencelength here \n",
    "            msk = t_stop > seqlengths\n",
    "            t_stop[msk] = seqlengths[msk]\n",
    "            \n",
    "            slengths.append(seqlengths.cpu().detach())\n",
    "            \n",
    "            stat = {}\n",
    "            stat[\"probability_stopping\"] = probability_stopping.cpu().detach().numpy()\n",
    "            stat[\"class_probabilities\"] = log_class_probabilities.exp().cpu().detach().numpy()\n",
    "            stat[\"predictions_at_t_stop\"] = predictions_at_t_stop.unsqueeze(-1).cpu().detach().numpy()\n",
    "            stat[\"t_stop\"] = t_stop.unsqueeze(-1).cpu().detach().numpy()\n",
    "            stat[\"targets\"] = y_true.cpu().detach().numpy()\n",
    "            #print(y_true.cpu().detach().numpy().shape)\n",
    "            #print(ids.shape)\n",
    "            stat[\"ids\"] = ids.unsqueeze(1)\n",
    "            #stat[\"seqlengths\"] = seqlengths.cpu().detach().numpy()\n",
    "\n",
    "            stats.append(stat)\n",
    "\n",
    "\n",
    "        # list of dicts to dict of lists\n",
    "        stats = {k: np.vstack([dic[k] for dic in stats]) for k in stats[0]}\n",
    "        stats[\"seqlengths\"] = Ts = torch.cat(slengths).numpy()\n",
    "\n",
    "        return stats\n",
    "\n",
    "def test_print(snapshot_path):\n",
    "    stats = test(snapshot_path)\n",
    "    y_pred = stats[\"predictions_at_t_stop\"][:,0]\n",
    "    y_true = stats[\"targets\"][:,0]\n",
    "\n",
    "    accuracy = accuracy_score(y_true, y_pred)\n",
    "    kappa = cohen_kappa_score(y_true, y_pred)\n",
    "\n",
    "    Ts = stats[\"seqlengths\"]\n",
    "\n",
    "    T = args.sequencelength\n",
    "    t_stop = stats[\"t_stop\"][:,0]\n",
    "\n",
    "    earliness = 1-(t_stop / Ts)\n",
    "    t_stop_mean = earliness.mean()\n",
    "    t_stop_std = earliness.std()\n",
    "\n",
    "    print(f\"{accuracy:.2f} & {kappa:.2f} & {earliness.mean():.2f} $\\\\pm$ {earliness.std():.2f}\")\n",
    "        #return slengths"
   ]
  },
  {
   "cell_type": "code",
   "execution_count": 35,
   "id": "47a82570",
   "metadata": {},
   "outputs": [
    {
     "data": {
      "application/vnd.jupyter.widget-view+json": {
       "model_id": "",
       "version_major": 2,
       "version_minor": 0
      },
      "text/plain": [
       "  0%|          | 0/31 [00:00<?, ?it/s]"
      ]
     },
     "metadata": {},
     "output_type": "display_data"
    }
   ],
   "source": [
    "stats = test(\"../snapshots/bavariancrops.pth\")"
   ]
  },
  {
   "cell_type": "code",
   "execution_count": 36,
   "id": "6a0e9624",
   "metadata": {},
   "outputs": [
    {
     "data": {
      "application/vnd.jupyter.widget-view+json": {
       "model_id": "",
       "version_major": 2,
       "version_minor": 0
      },
      "text/plain": [
       "  0%|          | 0/31 [00:00<?, ?it/s]"
      ]
     },
     "metadata": {},
     "output_type": "display_data"
    },
    {
     "name": "stdout",
     "output_type": "stream",
     "text": [
      "0.86 & 0.77 & 0.57 $\\pm$ 0.18\n"
     ]
    }
   ],
   "source": [
    "test_print(\"../snapshots/bavariancrops.pth\")"
   ]
  },
  {
   "cell_type": "code",
   "execution_count": 37,
   "id": "8e727785",
   "metadata": {},
   "outputs": [],
   "source": []
  },
  {
   "cell_type": "code",
   "execution_count": 10,
   "id": "824f45df",
   "metadata": {},
   "outputs": [],
   "source": [
    "doy_stop = []\n",
    "for id, t_stop in zip(stats[\"ids\"][:,0], stats[\"t_stop\"][:,0]):\n",
    "    if t_stop > len(doys_dict[id]):\n",
    "        t_stop = len(doys_dict[id])\n",
    "    \n",
    "    doys = doys_dict[id]\n",
    "    doy_stop.append(doys[t_stop-1])\n",
    "doy_stop = np.array(doy_stop)"
   ]
  },
  {
   "cell_type": "code",
   "execution_count": 11,
   "id": "e31ff201",
   "metadata": {},
   "outputs": [
    {
     "data": {
      "image/png": "[encoded data removed]",
      "text/plain": [
       "<Figure size 648x144 with 1 Axes>"
      ]
     },
     "metadata": {
      "needs_background": "light"
     },
     "output_type": "display_data"
    }
   ],
   "source": [
    "\n",
    "fig, ax = plt.subplots(figsize=(9,2))\n",
    "seaborn.boxplot(x=doy_stop,orient=\"h\",ax=ax, color=\"gray\")\n",
    "seaborn.despine(offset=0.5, left=True)\n",
    "ax.set_xlabel(\"day of year 2017\")\n",
    "ax.set_ylabel(\"\")\n",
    "ax.set_xlim(0,365)\n",
    "t = np.linspace(0,360,4)\n",
    "ax.set_ylim(-.5,1)\n",
    "ys = [0.55,0.75,0.55,0.75]\n",
    "#ax.set_xticks(doys)\n",
    "#ax.set_xticklabels(dates, rotation=20, ha='right')\n",
    "fig.savefig(\"/tmp/violin.pdf\",dpi=300,bbox_inches='tight')"
   ]
  },
  {
   "cell_type": "code",
   "execution_count": 12,
   "id": "6869dc20",
   "metadata": {},
   "outputs": [
    {
     "data": {
      "image/png": "[encoded data removed]",
      "text/plain": [
       "<Figure size 576x288 with 1 Axes>"
      ]
     },
     "metadata": {
      "needs_background": "light"
     },
     "output_type": "display_data"
    }
   ],
   "source": [
    "import seaborn\n",
    "import matplotlib.pyplot as plt\n",
    "\n",
    "\n",
    "doys_months = [datetime.datetime(2017,m,1).timetuple().tm_yday for m in range(1,13)]\n",
    "months = [\"Jan\", \"Feb\", \"Mar\", \"Apr\", \"May\", \"Jun\", \"Jul\", \"Aug\", \"Sep\", \"Oct\", \"Nov\", \"Dec\"]\n",
    "\n",
    "\n",
    "labels_names = [\"meadow\", \"summer barley\", \"corn\", \"winter wheat\", \"winter barley\", \"clover\", \"winter triticale\"]\n",
    "\n",
    "fig, ax = plt.subplots(figsize=(8,4))\n",
    "seaborn.boxplot(x=doy_stop,y=stats[\"targets\"][:,0],orient=\"h\",ax=ax)\n",
    "ax.set_yticklabels(labels_names, fontsize=16)\n",
    "ax.set_xlabel(\"day of year\", fontsize=16)\n",
    "ax.xaxis.grid(True)\n",
    "ax.set_xticks(doys_months)\n",
    "ax.set_xticklabels(months, ha=\"left\")\n",
    "seaborn.despine(left=True)\n",
    "fig.savefig(\"/home/marc/projects/re-elects/images/phenology/bavariancrops.pdf\", transparent=True, bbox_inches=\"tight\")"
   ]
  },
  {
   "cell_type": "code",
   "execution_count": 20,
   "id": "daca3913",
   "metadata": {},
   "outputs": [
    {
     "data": {
      "image/png": "[encoded data removed]",
      "text/plain": [
       "<Figure size 432x288 with 1 Axes>"
      ]
     },
     "metadata": {
      "needs_background": "light"
     },
     "output_type": "display_data"
    }
   ],
   "source": [
    "canard = \"#007480\"\n",
    "grosseile = \"#b51f1f\"\n",
    "rouge = \"#FF0000\"\n",
    "leman = \"#00A79F\"\n",
    "acier = \"#4F8FCC\"\n",
    "\n",
    "correct = stats[\"predictions_at_t_stop\"][:,0] == stats[\"targets\"][:,0]\n",
    "\n",
    "fig, ax = plt.subplots(figsize=(6,4))\n",
    "seaborn.violinplot(x=doy_stop,y=correct,orient=\"h\",ax=ax, palette=[rouge,acier])\n",
    "ax.set_yticklabels([\"wrong\", \"correct\"])\n",
    "seaborn.despine(left=True)\n",
    "ax.set_xlabel(\"day of year\")\n",
    "fig.savefig(\"/tmp/correctwrongbzhviolin.pdf\")"
   ]
  },
  {
   "cell_type": "code",
   "execution_count": 21,
   "id": "21cdc027",
   "metadata": {},
   "outputs": [
    {
     "data": {
      "image/png": "[encoded data removed]",
      "text/plain": [
       "<Figure size 432x144 with 1 Axes>"
      ]
     },
     "metadata": {
      "needs_background": "light"
     },
     "output_type": "display_data"
    }
   ],
   "source": [
    "fig, ax = plt.subplots(figsize=(6,2))\n",
    "seaborn.boxplot(x=doy_stop,y=correct,orient=\"h\",ax=ax, palette=[rouge,acier])\n",
    "ax.set_yticklabels([\"wrong\", \"correct\"])\n",
    "seaborn.despine(left=True)\n",
    "ax.set_xlabel(\"day of year\")\n",
    "fig.savefig(\"/tmp/correctwrongbzhboxplotbavariancrops.pdf\", bbox_inches=\"tight\")"
   ]
  },
  {
   "cell_type": "code",
   "execution_count": 19,
   "id": "1587b96e",
   "metadata": {},
   "outputs": [
    {
     "name": "stdout",
     "output_type": "stream",
     "text": [
      "KstestResult(statistic=0.41400987709331255, pvalue=2.55351295663786e-15)\n",
      "correct 147.41406133133881 +- 68.7776270764918\n",
      "correct 173.71099290780143 +- 38.350725899626966\n"
     ]
    }
   ],
   "source": [
    "mean_correct = doy_stop[correct].mean()\n",
    "mean_wrong = doy_stop[~correct].mean()\n",
    "std_correct = doy_stop[correct].std()\n",
    "std_wrong = doy_stop[~correct].std()\n",
    "\n",
    "Ts = stats[\"seqlengths\"]\n",
    "t_stop = stats[\"t_stop\"][:,0]\n",
    "earliness = 1-(t_stop / Ts)\n",
    "\n",
    "from scipy import stats as st\n",
    "print(st.ks_2samp(doy_stop[correct], doy_stop[~correct]))\n",
    "\n",
    "print(f\"correct {mean_correct} +- {std_correct}\")\n",
    "print(f\"correct {mean_wrong} +- {std_wrong}\")"
   ]
  },
  {
   "cell_type": "code",
   "execution_count": 22,
   "id": "5f8420a0",
   "metadata": {},
   "outputs": [
    {
     "data": {
      "text/plain": [
       "6685"
      ]
     },
     "execution_count": 22,
     "metadata": {},
     "output_type": "execute_result"
    }
   ],
   "source": [
    "correct.sum()\n"
   ]
  },
  {
   "cell_type": "code",
   "execution_count": 25,
   "id": "64aa1ee4",
   "metadata": {},
   "outputs": [
    {
     "data": {
      "text/plain": [
       "1128"
      ]
     },
     "execution_count": 25,
     "metadata": {},
     "output_type": "execute_result"
    }
   ],
   "source": [
    "(~correct).sum()"
   ]
  },
  {
   "cell_type": "code",
   "execution_count": null,
   "id": "769392bc",
   "metadata": {},
   "outputs": [],
   "source": []
  }
 ],
 "metadata": {
  "kernelspec": {
   "display_name": "Python 3 (ipykernel)",
   "language": "python",
   "name": "python3"
  },
  "language_info": {
   "codemirror_mode": {
    "name": "ipython",
    "version": 3
   },
   "file_extension": ".py",
   "mimetype": "text/x-python",
   "name": "python",
   "nbconvert_exporter": "python",
   "pygments_lexer": "ipython3",
   "version": "3.7.11"
  }
 },
 "nbformat": 4,
 "nbformat_minor": 5
}
