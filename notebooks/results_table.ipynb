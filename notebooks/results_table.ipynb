{
 "cells": [
  {
   "cell_type": "markdown",
   "metadata": {},
   "source": [
    "# Create Results table \n",
    "Create a table from the runs given, such that the table has the following columns:\n",
    "- accuracy\n",
    "- earliness\n",
    "- harmonic mean \n",
    "- std score"
   ]
  },
  {
   "cell_type": "code",
   "execution_count": 1,
   "metadata": {},
   "outputs": [],
   "source": [
    "import sys\n",
    "\n",
    "sys.path.append(\"..\")\n",
    "import os\n",
    "\n",
    "os.environ[\"MPLCONFIGDIR\"] = \"/myhome\"\n",
    "import pandas as pd\n",
    "from utils.test.load_model import (\n",
    "    get_all_runs,\n",
    "    get_loaded_model_and_criterion,\n",
    "    get_model_and_model_path,\n",
    ")\n",
    "from utils.test.results_table import create_results_table, get_latex_table\n",
    "from utils.helpers_config import load_personal_wandb_config"
   ]
  },
  {
   "cell_type": "code",
   "execution_count": 2,
   "metadata": {},
   "outputs": [],
   "source": [
    "local_dataroot = os.path.join(\n",
    "    os.environ.get(\"HOME\", os.environ.get(\"USERPROFILE\")), \"elects_data\"\n",
    ")\n",
    "run_names = [\"v1\", \"v2\"]"
   ]
  },
  {
   "cell_type": "code",
   "execution_count": 3,
   "metadata": {},
   "outputs": [],
   "source": [
    "# ## Download the model from wandb\n",
    "entity, project, _ = load_personal_wandb_config()\n",
    "runs_df, runs = get_all_runs(entity, project)"
   ]
  },
  {
   "cell_type": "markdown",
   "metadata": {},
   "source": [
    "## Results table on the validation set"
   ]
  },
  {
   "cell_type": "code",
   "execution_count": 5,
   "metadata": {},
   "outputs": [
    {
     "name": "stdout",
     "output_type": "stream",
     "text": [
      "run:  v1\n"
     ]
    },
    {
     "name": "stderr",
     "output_type": "stream",
     "text": [
      "\u001b[34m\u001b[1mwandb\u001b[0m:   1 of 1 files downloaded.  \n"
     ]
    },
    {
     "name": "stdout",
     "output_type": "stream",
     "text": [
      "Test stats already exist in c:\\Users\\anyam\\Desktop\\Master_thesis\\Code\\elects\\results_analysis_notebooks\\artifacts\\run-5dazxzo8-model.pth-v27\\valid_None\\test_stats.json\n",
      "****************************************************************************************************\n",
      "run:  v2\n"
     ]
    },
    {
     "name": "stderr",
     "output_type": "stream",
     "text": [
      "\u001b[34m\u001b[1mwandb\u001b[0m:   1 of 1 files downloaded.  \n"
     ]
    },
    {
     "name": "stdout",
     "output_type": "stream",
     "text": [
      "Test stats do not exist in c:\\Users\\anyam\\Desktop\\Master_thesis\\Code\\elects\\results_analysis_notebooks\\artifacts\\run-8a82pjoc-model.pth-v22\\valid_None\\test_stats.json, will compute them\n",
      "config file saved at:  c:\\Users\\anyam\\Desktop\\Master_thesis\\Code\\elects\\results_analysis_notebooks\\artifacts\\run-8a82pjoc-model.pth-v22\\valid_None\\config.json\n",
      "-------------------------------------------------- Configuration: --------------------------------------------------\n",
      "mu: 150\n",
      "mus: [102, 56, 25, 102, 150, 142, 142]\n",
      "loss: daily_reward_piecewise_lin_regr\n",
      "alpha: 1\n",
      "device: cuda\n",
      "epochs: 100\n",
      "factor: v2\n",
      "resume: False\n",
      "dataset: breizhcrops\n",
      "epsilon: 10\n",
      "dataroot: /home/amauron/elects/data/elects_data\n",
      "p_thresh: 0.5\n",
      "patience: 30\n",
      "snapshot: /home/amauron/elects/data/elects_snapshots/model.pth\n",
      "batchsize: 256\n",
      "corrected: True\n",
      "alpha_decay: [1, 0.5]\n",
      "hidden_dims: 128\n",
      "loss_weight: balanced\n",
      "weight_decay: 0\n",
      "backbonemodel: LSTM\n",
      "class_weights: [0.04731182754039765, 0.02670983411371708, 0.14316703379154205, 0.01290007308125496, 1, 0.011567785404622557, 0.010797104798257353]\n",
      "decision_head: day\n",
      "learning_rate: 0.001\n",
      "nb_parameters: 264994\n",
      "sequencelength: 365\n",
      "validation_set: valid\n",
      "daily_timestamps: True\n",
      "day_head_init_bias: None\n",
      "percentage_alpha_1: 0.6462034\n",
      "percentage_alpha_2: 0.10285531\n",
      "percentage_alpha_3: 0.25094128\n",
      "percentages_other_alphas: [0.6462033987045288, 0.10285530984401704, 0.25094127655029297]\n",
      "original_time_serie_lengths: [102]\n",
      "start_decision_head_training: 2\n",
      "------------------------------------------------------------------------------------------------------------------------------------------------------\n",
      "2559635960 2559635960\n"
     ]
    },
    {
     "name": "stderr",
     "output_type": "stream",
     "text": [
      "loading data into RAM: 100%|██████████| 67523/67523 [00:29<00:00, 2282.72it/s]\n"
     ]
    },
    {
     "name": "stdout",
     "output_type": "stream",
     "text": [
      "class names: ['barley' 'wheat' 'rapeseed' 'corn' 'orchards' 'permanent meadows'\n",
      " 'temporary meadows']\n"
     ]
    },
    {
     "name": "stderr",
     "output_type": "stream",
     "text": [
      "\u001b[34m\u001b[1mwandb\u001b[0m:   1 of 1 files downloaded.  \n",
      "c:\\Users\\anyam\\Desktop\\Master_thesis\\Code\\elects\\results_analysis_notebooks\\..\\utils\\test\\load_model.py:159: UserWarning: To copy construct from a tensor, it is recommended to use sourceTensor.clone().detach() or sourceTensor.clone().detach().requires_grad_(True), rather than torch.tensor(sourceTensor).\n",
      "  class_weights = torch.tensor(run_config.class_weights)\n",
      "c:\\Users\\anyam\\Desktop\\Master_thesis\\Code\\elects\\results_analysis_notebooks\\..\\utils\\train\\helpers_training.py:252: UserWarning: To copy construct from a tensor, it is recommended to use sourceTensor.clone().detach() or sourceTensor.clone().detach().requires_grad_(True), rather than torch.tensor(sourceTensor).\n",
      "  mus = torch.tensor(mus, dtype=torch.float)\n"
     ]
    },
    {
     "name": "stdout",
     "output_type": "stream",
     "text": [
      "loss daily_reward_piecewise_lin_regr selected, mus set to tensor([102,  56,  25, 102, 150, 142, 142])\n",
      "model is loading from:  c:\\Users\\anyam\\Desktop\\Master_thesis\\Code\\elects\\results_analysis_notebooks\\artifacts\\run-8a82pjoc-model.pth-v22\n",
      "The model has 264,994 trainable parameters.\n",
      "weights moved to device cuda\n",
      "test_stats saved at  c:\\Users\\anyam\\Desktop\\Master_thesis\\Code\\elects\\results_analysis_notebooks\\artifacts\\run-8a82pjoc-model.pth-v22\\valid_None\\test_stats.json\n",
      "****************************************************************************************************\n"
     ]
    }
   ],
   "source": [
    "results_table = create_results_table(\n",
    "    run_names, runs_df, runs, local_dataroot, partition=\"valid\"\n",
    ")"
   ]
  },
  {
   "cell_type": "code",
   "execution_count": 8,
   "metadata": {},
   "outputs": [
    {
     "name": "stdout",
     "output_type": "stream",
     "text": [
      "\\begin{tabular}{lllll}\n",
      "\\toprule\n",
      "Wrong pred. penalty & Accuracy & Earliness & Harmonic Mean & STD score \\\\\n",
      "\\midrule\n",
      "v1 & 0.72 & 0.61 & 0.66 & 25.93 \\\\\n",
      "v2 & 0.62 & 0.64 & 0.63 & 46.45 \\\\\n",
      "\\bottomrule\n",
      "\\end{tabular}\n",
      "\n"
     ]
    }
   ],
   "source": [
    "latex_table = get_latex_table(results_table)\n",
    "print(latex_table)"
   ]
  },
  {
   "cell_type": "markdown",
   "metadata": {},
   "source": [
    "## Results table on the test dataset\n",
    "We can also create a table that shows the performance of the models on the test dataset. This is useful for comparing the performance of the models on unseen data."
   ]
  },
  {
   "cell_type": "code",
   "execution_count": null,
   "metadata": {},
   "outputs": [
    {
     "name": "stdout",
     "output_type": "stream",
     "text": [
      "run:  v1\n"
     ]
    },
    {
     "name": "stderr",
     "output_type": "stream",
     "text": [
      "\u001b[34m\u001b[1mwandb\u001b[0m:   1 of 1 files downloaded.  \n"
     ]
    },
    {
     "name": "stdout",
     "output_type": "stream",
     "text": [
      "Test stats already exist in c:\\Users\\anyam\\Desktop\\Master_thesis\\Code\\elects\\results_analysis_notebooks\\artifacts\\run-5dazxzo8-model.pth-v27\\test_stats.json\n",
      "****************************************************************************************************\n",
      "run:  v2\n"
     ]
    },
    {
     "name": "stderr",
     "output_type": "stream",
     "text": [
      "\u001b[34m\u001b[1mwandb\u001b[0m:   1 of 1 files downloaded.  \n"
     ]
    },
    {
     "name": "stdout",
     "output_type": "stream",
     "text": [
      "Test stats already exist in c:\\Users\\anyam\\Desktop\\Master_thesis\\Code\\elects\\results_analysis_notebooks\\artifacts\\run-8a82pjoc-model.pth-v22\\test_stats.json\n",
      "****************************************************************************************************\n"
     ]
    }
   ],
   "source": [
    "results_table = create_results_table(\n",
    "    run_names, runs_df, runs, local_dataroot, partition=\"eval\"\n",
    ")"
   ]
  },
  {
   "cell_type": "code",
   "execution_count": null,
   "metadata": {},
   "outputs": [
    {
     "data": {
      "text/plain": [
       "{'v1': {'accuracy': 0.7415054091116867,\n",
       "  'elects_earliness': 0.6046755063210951,\n",
       "  'harmonic_mean': 0.6661365549819788,\n",
       "  'std_score': 27.424230811484176,\n",
       "  'Wrong pred. penalty': 'v1'},\n",
       " 'v2': {'accuracy': 0.5828381329676469,\n",
       "  'elects_earliness': 0.6497917618975062,\n",
       "  'harmonic_mean': 0.6144965636478121,\n",
       "  'std_score': 46.98214862567751,\n",
       "  'Wrong pred. penalty': 'v2'}}"
      ]
     },
     "execution_count": 6,
     "metadata": {},
     "output_type": "execute_result"
    }
   ],
   "source": [
    "results_table"
   ]
  },
  {
   "cell_type": "code",
   "execution_count": null,
   "metadata": {},
   "outputs": [
    {
     "name": "stdout",
     "output_type": "stream",
     "text": [
      "\\begin{tabular}{lllll}\n",
      "\\toprule\n",
      "Wrong pred. penalty & Accuracy & Earliness & Harmonic Mean & STD score \\\\\n",
      "\\midrule\n",
      "v1 & 0.74 & 0.60 & 0.67 & 27.42 \\\\\n",
      "v2 & 0.58 & 0.65 & 0.61 & 46.98 \\\\\n",
      "\\bottomrule\n",
      "\\end{tabular}\n",
      "\n"
     ]
    }
   ],
   "source": [
    "latex_table = get_latex_table(results_table)\n",
    "print(latex_table)"
   ]
  },
  {
   "cell_type": "code",
   "execution_count": null,
   "metadata": {},
   "outputs": [],
   "source": []
  }
 ],
 "metadata": {
  "kernelspec": {
   "display_name": "venv",
   "language": "python",
   "name": "python3"
  },
  "language_info": {
   "codemirror_mode": {
    "name": "ipython",
    "version": 3
   },
   "file_extension": ".py",
   "mimetype": "text/x-python",
   "name": "python",
   "nbconvert_exporter": "python",
   "pygments_lexer": "ipython3",
   "version": "3.11.6"
  }
 },
 "nbformat": 4,
 "nbformat_minor": 2
}
