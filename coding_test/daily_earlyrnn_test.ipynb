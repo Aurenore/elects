{
 "cells": [
  {
   "cell_type": "markdown",
   "metadata": {},
   "source": [
    "# Test daily_earlyrnn model\n",
    "Test the new model to check if it is working correctly."
   ]
  },
  {
   "cell_type": "code",
   "execution_count": null,
   "metadata": {},
   "outputs": [],
   "source": [
    "%load_ext autoreload\n",
    "%autoreload 2"
   ]
  },
  {
   "cell_type": "code",
   "execution_count": 2,
   "metadata": {},
   "outputs": [],
   "source": [
    "import sys\n",
    "import os \n",
    "#os.environ['MPLCONFIGDIR'] = \"$HOME\"\n",
    "#os.envir\n",
    "# on[\"WANDB_DIR\"] = os.path.join(os.path.dirname(__file__), \"..\", \"wandb\")\n",
    "# sys.path.append(os.path.abspath(os.path.join(os.path.dirname(__file__), os.path.pardir)))\n",
    "# sys append \n",
    "sys.path.append(\"..\")\n",
    "from data import BavarianCrops, BreizhCrops, SustainbenchCrops, ModisCDL\n",
    "from torch.utils.data import DataLoader\n",
    "from models.earlyrnn import EarlyRNN\n",
    "from models.daily_earlyrnn import DailyEarlyRNN\n",
    "import torch\n",
    "from tqdm import tqdm\n",
    "from utils.losses.early_reward_loss import EarlyRewardLoss\n",
    "from utils.losses.stopping_time_proximity_loss import StoppingTimeProximityLoss, sample_three_uniform_numbers\n",
    "import sklearn.metrics\n",
    "import pandas as pd\n",
    "import wandb\n",
    "from utils.plots import plot_label_distribution_datasets, boxplot_stopping_times\n",
    "from utils.doy import get_doys_dict_test, get_doy_stop, create_sorted_doys_dict_test, get_approximated_doys_dict\n",
    "from utils.helpers_training import parse_args_sweep, train_epoch\n",
    "from utils.helpers_testing import test_epoch\n",
    "from utils.metrics import harmonic_mean_score\n",
    "from models.model_helpers import count_parameters\n",
    "import matplotlib.pyplot as plt\n"
   ]
  },
  {
   "cell_type": "code",
   "execution_count": 8,
   "metadata": {},
   "outputs": [],
   "source": [
    "# config \n",
    "class Config():\n",
    "    def __init__(self):\n",
    "        self.alpha = 0.6\n",
    "        self.backbonemodel = \"LSTM\"\n",
    "        self.batchsize = 256\n",
    "        self.corrected = True\n",
    "        self.dataroot = os.path.join(os.environ.get(\"HOME\", os.environ.get(\"USERPROFILE\")),\"elects_data\")\n",
    "        self.dataset = \"breizhcrops\"\n",
    "        self.device = \"cuda\"\n",
    "        self.epochs = 100\n",
    "        self.epsilon = 10\n",
    "        self.extra_padding_list = [0]\n",
    "        self.hidden_dims = 64\n",
    "        self.learning_rate = 0.001\n",
    "        self.loss_weight = \"balanced\"\n",
    "        self.patience = 30\n",
    "        self.resume = False\n",
    "        self.sequencelength = 365\n",
    "        self.validation_set = \"valid\"\n",
    "        self.weight_decay = 0\n",
    "        self.daily_timestamps = True\n",
    "        self.original_time_serie_lengths = [102]\n",
    "        \n",
    "config = Config()"
   ]
  },
  {
   "cell_type": "code",
   "execution_count": 9,
   "metadata": {},
   "outputs": [
    {
     "name": "stdout",
     "output_type": "stream",
     "text": [
      "2559635960 2559635960\n"
     ]
    },
    {
     "name": "stderr",
     "output_type": "stream",
     "text": [
      "loading data into RAM: 100%|██████████| 67523/67523 [00:29<00:00, 2271.37it/s]\n"
     ]
    }
   ],
   "source": [
    "dataroot = os.path.join(config.dataroot,\"breizhcrops\")\n",
    "input_dim = 13\n",
    "test_ds = BreizhCrops(root=dataroot,partition=config.validation_set, sequencelength=config.sequencelength, corrected=config.corrected, daily_timestamps=config.daily_timestamps, original_time_serie_lengths=config.original_time_serie_lengths)\n",
    "nclasses = test_ds.nclasses\n",
    "testdataloader = DataLoader(test_ds, batch_size=config.batchsize)"
   ]
  },
  {
   "cell_type": "markdown",
   "metadata": {},
   "source": [
    "cost function: "
   ]
  },
  {
   "cell_type": "code",
   "execution_count": 10,
   "metadata": {},
   "outputs": [
    {
     "name": "stdout",
     "output_type": "stream",
     "text": [
      "alphas tensor(0.4774) tensor(0.2883) tensor(0.2342)\n"
     ]
    }
   ],
   "source": [
    "alpha1, alpha2, alpha3 = sample_three_uniform_numbers()\n",
    "print(\"alphas\", alpha1, alpha2, alpha3)"
   ]
  },
  {
   "cell_type": "markdown",
   "metadata": {},
   "source": [
    "model: "
   ]
  },
  {
   "cell_type": "code",
   "execution_count": 11,
   "metadata": {},
   "outputs": [],
   "source": [
    "model = DailyEarlyRNN(config.backbonemodel, nclasses=nclasses, input_dim=input_dim, sequencelength=config.sequencelength, hidden_dims=config.hidden_dims).to(config.device)\n"
   ]
  },
  {
   "cell_type": "code",
   "execution_count": 15,
   "metadata": {},
   "outputs": [
    {
     "name": "stdout",
     "output_type": "stream",
     "text": [
      "log_class_probs torch.Size([256, 365, 9])\n",
      "timestamps_left torch.Size([256, 365])\n"
     ]
    }
   ],
   "source": [
    "for batch in testdataloader:\n",
    "    X, y = batch\n",
    "    log_class_probs, timestamps_left = model(X.to(config.device))\n",
    "    break\n",
    "\n",
    "print(\"log_class_probs\", log_class_probs.shape)\n",
    "print(\"timestamps_left\", timestamps_left.shape)\n"
   ]
  },
  {
   "cell_type": "code",
   "execution_count": 16,
   "metadata": {},
   "outputs": [
    {
     "data": {
      "text/plain": [
       "tensor([[[-2.0982, -2.2887, -2.2046,  ..., -2.1571, -2.2635, -2.3104],\n",
       "         [-2.0976, -2.2901, -2.2015,  ..., -2.1580, -2.2649, -2.3124],\n",
       "         [-2.0978, -2.2876, -2.1999,  ..., -2.1596, -2.2658, -2.3163],\n",
       "         ...,\n",
       "         [-2.0849, -2.2865, -2.1784,  ..., -2.1551, -2.2731, -2.3009],\n",
       "         [-2.0886, -2.2877, -2.1736,  ..., -2.1570, -2.2730, -2.3015],\n",
       "         [-2.0836, -2.2922, -2.1846,  ..., -2.1593, -2.2680, -2.3033]],\n",
       "\n",
       "        [[-2.0980, -2.2894, -2.2048,  ..., -2.1548, -2.2627, -2.3100],\n",
       "         [-2.0965, -2.2894, -2.2042,  ..., -2.1555, -2.2657, -2.3114],\n",
       "         [-2.0957, -2.2876, -2.1982,  ..., -2.1533, -2.2757, -2.3100],\n",
       "         ...,\n",
       "         [-2.0932, -2.2766, -2.1814,  ..., -2.1685, -2.2705, -2.3067],\n",
       "         [-2.0946, -2.2819, -2.1834,  ..., -2.1703, -2.2645, -2.3107],\n",
       "         [-2.0944, -2.2828, -2.1855,  ..., -2.1670, -2.2623, -2.3126]],\n",
       "\n",
       "        [[-2.0982, -2.2886, -2.2041,  ..., -2.1561, -2.2637, -2.3101],\n",
       "         [-2.0961, -2.2885, -2.2031,  ..., -2.1581, -2.2656, -2.3101],\n",
       "         [-2.0989, -2.2873, -2.1979,  ..., -2.1592, -2.2747, -2.3091],\n",
       "         ...,\n",
       "         [-2.0993, -2.2858, -2.1805,  ..., -2.1582, -2.2741, -2.3076],\n",
       "         [-2.1001, -2.2823, -2.1807,  ..., -2.1624, -2.2679, -2.3091],\n",
       "         [-2.1014, -2.2849, -2.1875,  ..., -2.1590, -2.2651, -2.3115]],\n",
       "\n",
       "        ...,\n",
       "\n",
       "        [[-2.0984, -2.2885, -2.2045,  ..., -2.1560, -2.2623, -2.3120],\n",
       "         [-2.0978, -2.2912, -2.2016,  ..., -2.1568, -2.2638, -2.3128],\n",
       "         [-2.0952, -2.2939, -2.1922,  ..., -2.1625, -2.2669, -2.3098],\n",
       "         ...,\n",
       "         [-2.0927, -2.2867, -2.1786,  ..., -2.1560, -2.2744, -2.3096],\n",
       "         [-2.0935, -2.2867, -2.1754,  ..., -2.1616, -2.2710, -2.3102],\n",
       "         [-2.0932, -2.2879, -2.1803,  ..., -2.1629, -2.2660, -2.3095]],\n",
       "\n",
       "        [[-2.0982, -2.2900, -2.2044,  ..., -2.1562, -2.2632, -2.3108],\n",
       "         [-2.0957, -2.2894, -2.2026,  ..., -2.1570, -2.2634, -2.3128],\n",
       "         [-2.1001, -2.2861, -2.1923,  ..., -2.1518, -2.2670, -2.3144],\n",
       "         ...,\n",
       "         [-2.0978, -2.2948, -2.1743,  ..., -2.1648, -2.2678, -2.3014],\n",
       "         [-2.0967, -2.2887, -2.1781,  ..., -2.1702, -2.2624, -2.3034],\n",
       "         [-2.0917, -2.2894, -2.1820,  ..., -2.1699, -2.2625, -2.3056]],\n",
       "\n",
       "        [[-2.0983, -2.2906, -2.2043,  ..., -2.1549, -2.2628, -2.3114],\n",
       "         [-2.0963, -2.2906, -2.2050,  ..., -2.1580, -2.2638, -2.3106],\n",
       "         [-2.1007, -2.2804, -2.1987,  ..., -2.1570, -2.2735, -2.3035],\n",
       "         ...,\n",
       "         [-2.0950, -2.2880, -2.1769,  ..., -2.1635, -2.2578, -2.3054],\n",
       "         [-2.0903, -2.2868, -2.1770,  ..., -2.1627, -2.2631, -2.3082],\n",
       "         [-2.0922, -2.2879, -2.1848,  ..., -2.1572, -2.2615, -2.3132]]],\n",
       "       device='cuda:0', grad_fn=<LogSoftmaxBackward0>)"
      ]
     },
     "execution_count": 16,
     "metadata": {},
     "output_type": "execute_result"
    }
   ],
   "source": [
    "log_class_probs"
   ]
  },
  {
   "cell_type": "code",
   "execution_count": 17,
   "metadata": {},
   "outputs": [
    {
     "data": {
      "text/plain": [
       "tensor([[364., 364., 364.,  ..., 364., 364., 364.],\n",
       "        [364., 364., 364.,  ..., 364., 364., 364.],\n",
       "        [364., 364., 364.,  ..., 364., 364., 364.],\n",
       "        ...,\n",
       "        [364., 364., 364.,  ..., 364., 364., 364.],\n",
       "        [364., 364., 364.,  ..., 364., 364., 364.],\n",
       "        [364., 364., 364.,  ..., 364., 364., 364.]], device='cuda:0',\n",
       "       grad_fn=<MulBackward0>)"
      ]
     },
     "execution_count": 17,
     "metadata": {},
     "output_type": "execute_result"
    }
   ],
   "source": [
    "timestamps_left"
   ]
  },
  {
   "cell_type": "code",
   "execution_count": 27,
   "metadata": {},
   "outputs": [
    {
     "name": "stdout",
     "output_type": "stream",
     "text": [
      "shapes\n",
      "logprobabilities torch.Size([256, 365, 9])\n",
      "timestamps_left torch.Size([256, 365])\n",
      "predictions_at_t_stop torch.Size([256])\n",
      "t_stop torch.Size([256])\n"
     ]
    }
   ],
   "source": [
    "logprobabilities, timestamps_left, predictions_at_t_stop, t_stop = model.predict(X.to(config.device))\n",
    "print(\"shapes\")\n",
    "print(\"logprobabilities\", logprobabilities.shape)\n",
    "print(\"timestamps_left\", timestamps_left.shape)\n",
    "print(\"predictions_at_t_stop\", predictions_at_t_stop.shape)\n",
    "print(\"t_stop\", t_stop.shape)\n"
   ]
  },
  {
   "cell_type": "code",
   "execution_count": 28,
   "metadata": {},
   "outputs": [
    {
     "name": "stdout",
     "output_type": "stream",
     "text": [
      "logprobabilities tensor([[[-2.0979, -2.2886, -2.2047,  ..., -2.1557, -2.2622, -2.3116],\n",
      "         [-2.0968, -2.2899, -2.2028,  ..., -2.1575, -2.2649, -2.3119],\n",
      "         [-2.0901, -2.2942, -2.1983,  ..., -2.1591, -2.2760, -2.3093],\n",
      "         ...,\n",
      "         [-2.0942, -2.2873, -2.1760,  ..., -2.1637, -2.2672, -2.3101],\n",
      "         [-2.0943, -2.2934, -2.1836,  ..., -2.1627, -2.2637, -2.3133],\n",
      "         [-2.0884, -2.2939, -2.1864,  ..., -2.1599, -2.2589, -2.3139]],\n",
      "\n",
      "        [[-2.0975, -2.2887, -2.2056,  ..., -2.1547, -2.2636, -2.3114],\n",
      "         [-2.0956, -2.2872, -2.2062,  ..., -2.1556, -2.2662, -2.3116],\n",
      "         [-2.0879, -2.2856, -2.2042,  ..., -2.1556, -2.2781, -2.3077],\n",
      "         ...,\n",
      "         [-2.0989, -2.2763, -2.1828,  ..., -2.1632, -2.2744, -2.3030],\n",
      "         [-2.0996, -2.2766, -2.1820,  ..., -2.1661, -2.2648, -2.3058],\n",
      "         [-2.0968, -2.2773, -2.1851,  ..., -2.1677, -2.2617, -2.3111]],\n",
      "\n",
      "        [[-2.0971, -2.2883, -2.2053,  ..., -2.1545, -2.2617, -2.3121],\n",
      "         [-2.0945, -2.2890, -2.2043,  ..., -2.1569, -2.2651, -2.3140],\n",
      "         [-2.0958, -2.2867, -2.1955,  ..., -2.1549, -2.2759, -2.3097],\n",
      "         ...,\n",
      "         [-2.1008, -2.2820, -2.1883,  ..., -2.1499, -2.2549, -2.3030],\n",
      "         [-2.1041, -2.2812, -2.1863,  ..., -2.1547, -2.2542, -2.3095],\n",
      "         [-2.0962, -2.2853, -2.1883,  ..., -2.1580, -2.2590, -2.3133]],\n",
      "\n",
      "        ...,\n",
      "\n",
      "        [[-2.0978, -2.2885, -2.2045,  ..., -2.1561, -2.2638, -2.3104],\n",
      "         [-2.0959, -2.2909, -2.2034,  ..., -2.1571, -2.2644, -2.3108],\n",
      "         [-2.0878, -2.2899, -2.1968,  ..., -2.1641, -2.2697, -2.3065],\n",
      "         ...,\n",
      "         [-2.0817, -2.2870, -2.1719,  ..., -2.1608, -2.2728, -2.3105],\n",
      "         [-2.0882, -2.2851, -2.1808,  ..., -2.1621, -2.2634, -2.3114],\n",
      "         [-2.0931, -2.2835, -2.1845,  ..., -2.1603, -2.2607, -2.3142]],\n",
      "\n",
      "        [[-2.0992, -2.2877, -2.2056,  ..., -2.1557, -2.2627, -2.3111],\n",
      "         [-2.0993, -2.2890, -2.2014,  ..., -2.1573, -2.2644, -2.3110],\n",
      "         [-2.1000, -2.2899, -2.1917,  ..., -2.1548, -2.2721, -2.3072],\n",
      "         ...,\n",
      "         [-2.0936, -2.2862, -2.1748,  ..., -2.1715, -2.2665, -2.2994],\n",
      "         [-2.0936, -2.2879, -2.1759,  ..., -2.1669, -2.2625, -2.3031],\n",
      "         [-2.0923, -2.2922, -2.1837,  ..., -2.1616, -2.2629, -2.3103]],\n",
      "\n",
      "        [[-2.0979, -2.2885, -2.2051,  ..., -2.1552, -2.2637, -2.3114],\n",
      "         [-2.0965, -2.2908, -2.2026,  ..., -2.1570, -2.2646, -2.3123],\n",
      "         [-2.0982, -2.2875, -2.1943,  ..., -2.1563, -2.2736, -2.3041],\n",
      "         ...,\n",
      "         [-2.0934, -2.2852, -2.1723,  ..., -2.1609, -2.2726, -2.3090],\n",
      "         [-2.0856, -2.2845, -2.1740,  ..., -2.1620, -2.2700, -2.3113],\n",
      "         [-2.0906, -2.2833, -2.1781,  ..., -2.1610, -2.2683, -2.3131]]],\n",
      "       device='cuda:0')\n",
      "timestamps_left tensor([[364., 364., 364.,  ..., 364., 364., 364.],\n",
      "        [364., 364., 364.,  ..., 364., 364., 364.],\n",
      "        [364., 364., 364.,  ..., 364., 364., 364.],\n",
      "        ...,\n",
      "        [364., 364., 364.,  ..., 364., 364., 364.],\n",
      "        [364., 364., 364.,  ..., 364., 364., 364.],\n",
      "        [364., 364., 364.,  ..., 364., 364., 364.]], device='cuda:0')\n",
      "predictions_at_t_stop tensor([0, 0, 0, 0, 0, 0, 0, 0, 0, 0, 0, 0, 0, 0, 0, 0, 0, 0, 0, 0, 0, 0, 0, 0,\n",
      "        0, 0, 0, 0, 0, 0, 0, 0, 0, 0, 0, 0, 0, 0, 0, 0, 0, 0, 0, 0, 0, 0, 0, 0,\n",
      "        0, 0, 0, 0, 0, 0, 0, 0, 0, 0, 0, 0, 0, 0, 0, 0, 0, 0, 0, 0, 0, 0, 0, 0,\n",
      "        0, 0, 0, 0, 0, 0, 0, 0, 0, 0, 0, 0, 0, 0, 0, 0, 0, 0, 0, 0, 0, 0, 0, 0,\n",
      "        0, 0, 0, 0, 0, 0, 0, 0, 0, 0, 0, 0, 0, 0, 0, 0, 0, 0, 0, 0, 0, 0, 0, 0,\n",
      "        0, 0, 0, 0, 0, 0, 0, 0, 0, 0, 0, 0, 0, 0, 0, 0, 0, 0, 0, 0, 0, 0, 0, 0,\n",
      "        0, 0, 0, 0, 0, 0, 0, 0, 0, 0, 0, 0, 0, 0, 0, 0, 0, 0, 0, 0, 0, 0, 0, 0,\n",
      "        0, 0, 0, 0, 0, 0, 0, 0, 0, 0, 0, 0, 0, 0, 0, 0, 0, 0, 0, 0, 0, 0, 0, 0,\n",
      "        0, 0, 0, 0, 0, 0, 0, 0, 0, 0, 0, 0, 0, 0, 0, 0, 0, 0, 0, 0, 0, 0, 0, 0,\n",
      "        0, 0, 0, 0, 0, 0, 0, 0, 0, 0, 0, 0, 0, 0, 0, 0, 0, 0, 0, 0, 0, 0, 0, 0,\n",
      "        0, 0, 0, 0, 0, 0, 0, 0, 0, 0, 0, 0, 0, 0, 0, 0], device='cuda:0')\n",
      "t_stop tensor([364, 364, 364, 364, 364, 364, 364, 364, 364, 364, 364, 364, 364, 364,\n",
      "        364, 364, 364, 364, 364, 364, 364, 364, 364, 364, 364, 364, 364, 364,\n",
      "        364, 364, 364, 364, 364, 364, 364, 364, 364, 364, 364, 364, 364, 364,\n",
      "        364, 364, 364, 364, 364, 364, 364, 364, 364, 364, 364, 364, 364, 364,\n",
      "        364, 364, 364, 364, 364, 364, 364, 364, 364, 364, 364, 364, 364, 364,\n",
      "        364, 364, 364, 364, 364, 364, 364, 364, 364, 364, 364, 364, 364, 364,\n",
      "        364, 364, 364, 364, 364, 364, 364, 364, 364, 364, 364, 364, 364, 364,\n",
      "        364, 364, 364, 364, 364, 364, 364, 364, 364, 364, 364, 364, 364, 364,\n",
      "        364, 364, 364, 364, 364, 364, 364, 364, 364, 364, 364, 364, 364, 364,\n",
      "        364, 364, 364, 364, 364, 364, 364, 364, 364, 364, 364, 364, 364, 364,\n",
      "        364, 364, 364, 364, 364, 364, 364, 364, 364, 364, 364, 364, 364, 364,\n",
      "        364, 364, 364, 364, 364, 364, 364, 364, 364, 364, 364, 364, 364, 364,\n",
      "        364, 364, 364, 364, 364, 364, 364, 364, 364, 364, 364, 364, 364, 364,\n",
      "        364, 364, 364, 364, 364, 364, 364, 364, 364, 364, 364, 364, 364, 364,\n",
      "        364, 364, 364, 364, 364, 364, 364, 364, 364, 364, 364, 364, 364, 364,\n",
      "        364, 364, 364, 364, 364, 364, 364, 364, 364, 364, 364, 364, 364, 364,\n",
      "        364, 364, 364, 364, 364, 364, 364, 364, 364, 364, 364, 364, 364, 364,\n",
      "        364, 364, 364, 364, 364, 364, 364, 364, 364, 364, 364, 364, 364, 364,\n",
      "        364, 364, 364, 364])\n"
     ]
    }
   ],
   "source": [
    "print(\"logprobabilities\", logprobabilities)\n",
    "print(\"timestamps_left\", timestamps_left)\n",
    "print(\"predictions_at_t_stop\", predictions_at_t_stop)\n",
    "print(\"t_stop\", t_stop)"
   ]
  },
  {
   "cell_type": "code",
   "execution_count": null,
   "metadata": {},
   "outputs": [],
   "source": []
  }
 ],
 "metadata": {
  "kernelspec": {
   "display_name": "venv",
   "language": "python",
   "name": "python3"
  },
  "language_info": {
   "codemirror_mode": {
    "name": "ipython",
    "version": 3
   },
   "file_extension": ".py",
   "mimetype": "text/x-python",
   "name": "python",
   "nbconvert_exporter": "python",
   "pygments_lexer": "ipython3",
   "version": "3.11.6"
  }
 },
 "nbformat": 4,
 "nbformat_minor": 2
}
