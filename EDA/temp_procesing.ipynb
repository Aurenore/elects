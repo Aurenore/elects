{
 "cells": [
  {
   "cell_type": "markdown",
   "metadata": {},
   "source": [
    "# Preprocessing of Temperature and Breizhcrops datasets\n",
    "In the end, we would like to have a dataset where satellites data are associated with the temperature cumulative sum. \n",
    "\n",
    "We need to create a h5py file, like the ones provided by breizhcrops. The values have a difference spacing, according to the temperature cumulative sum. "
   ]
  },
  {
   "cell_type": "code",
   "execution_count": 2,
   "metadata": {},
   "outputs": [],
   "source": [
    "import sys\n",
    "sys.path.append(\"..\")\n",
    "import os \n",
    "import glob\n",
    "import netCDF4\n",
    "from data import BreizhCrops\n",
    "import numpy as np\n",
    "import geopandas as gpd\n",
    "from shapely.geometry import Polygon\n",
    "from utils.temperature_data.load import get_time_data, get_temperature_data, get_lon_data, get_lat_data, load_nc_files"
   ]
  },
  {
   "cell_type": "code",
   "execution_count": null,
   "metadata": {},
   "outputs": [],
   "source": []
  }
 ],
 "metadata": {
  "kernelspec": {
   "display_name": "venv",
   "language": "python",
   "name": "python3"
  },
  "language_info": {
   "codemirror_mode": {
    "name": "ipython",
    "version": 3
   },
   "file_extension": ".py",
   "mimetype": "text/x-python",
   "name": "python",
   "nbconvert_exporter": "python",
   "pygments_lexer": "ipython3",
   "version": "3.11.6"
  }
 },
 "nbformat": 4,
 "nbformat_minor": 2
}
