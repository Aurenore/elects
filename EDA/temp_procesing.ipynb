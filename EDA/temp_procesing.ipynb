{
 "cells": [
  {
   "cell_type": "markdown",
   "metadata": {},
   "source": [
    "# Preprocessing of Temperature and Breizhcrops datasets\n",
    "In the end, we would like to have a dataset where satellites data are associated with the temperature cumulative sum. \n",
    "\n",
    "We need to create a h5py file, like the ones provided by breizhcrops. The values have a difference spacing, according to the temperature cumulative sum. "
   ]
  },
  {
   "cell_type": "code",
   "execution_count": 10,
   "metadata": {},
   "outputs": [],
   "source": [
    "import sys\n",
    "sys.path.append(\"..\")\n",
    "import os \n",
    "import glob\n",
    "import netCDF4\n",
    "import h5py\n",
    "from data import BreizhCrops\n",
    "import numpy as np\n",
    "import geopandas as gpd\n",
    "from shapely.geometry import Polygon\n",
    "from utils.temperature_data.load import get_time_data, get_temperature_data, get_lon_data, get_lat_data, load_nc_files"
   ]
  },
  {
   "cell_type": "code",
   "execution_count": 5,
   "metadata": {},
   "outputs": [
    {
     "name": "stdout",
     "output_type": "stream",
     "text": [
      "length:  365\n"
     ]
    }
   ],
   "source": [
    "elects_data_root = os.path.join(os.environ.get(\"HOME\", os.environ.get(\"USERPROFILE\")), \"elects_data\")\n",
    "data_path = os.path.join(elects_data_root, \"temperature\")\n",
    "# Example usage\n",
    "nc_datasets = load_nc_files(datapath=data_path)\n",
    "print(\"length: \", len(nc_datasets))"
   ]
  },
  {
   "cell_type": "code",
   "execution_count": null,
   "metadata": {},
   "outputs": [
    {
     "data": {
      "text/plain": [
       "<class 'netCDF4._netCDF4.Variable'>\n",
       "float32 Temperature_Air_2m_Mean_24h(time, lat, lon)\n",
       "    _FillValue: -9999.0\n",
       "    long_name: 2 meter air temperature (00-00LT)\n",
       "    units: K\n",
       "    temporal_aggregation: Mean 00-00LT\n",
       "    missing_value: -9999.0\n",
       "unlimited dimensions: time\n",
       "current shape = (1, 21, 44)\n",
       "filling on"
      ]
     },
     "metadata": {},
     "output_type": "display_data"
    }
   ],
   "source": [
    "nc_datasets[5].variables[\"Temperature_Air_2m_Mean_24h\"]"
   ]
  },
  {
   "cell_type": "code",
   "execution_count": 6,
   "metadata": {},
   "outputs": [
    {
     "name": "stdout",
     "output_type": "stream",
     "text": [
      "1555075632 1555075632\n"
     ]
    },
    {
     "name": "stderr",
     "output_type": "stream",
     "text": [
      "loading data into RAM: 100%|██████████| 122614/122614 [00:44<00:00, 2731.04it/s]\n"
     ]
    }
   ],
   "source": [
    "breizhcrops_path = os.path.join(elects_data_root, \"breizhcrops\")\n",
    "sequence_length=150\n",
    "test_ds = BreizhCrops(root=breizhcrops_path,partition=\"eval\", sequencelength=sequence_length, return_id=True, year=2017)"
   ]
  },
  {
   "cell_type": "code",
   "execution_count": 13,
   "metadata": {},
   "outputs": [
    {
     "name": "stdout",
     "output_type": "stream",
     "text": [
      "C:\\Users\\anyam\\elects_data\\breizhcrops\\2017\\L1C\\frh04.h5\n",
      "             id CODE_CULTU                   path     meanCLD  sequencelength  \\\n",
      "idx                                                                             \n",
      "0       6017564        PTR  csv/frh04/6017564.csv  780.075742             102   \n",
      "6       6054675        PTR  csv/frh04/6054675.csv  731.428571              49   \n",
      "7       6018665        PTR  csv/frh04/6018665.csv  710.530612              49   \n",
      "8       6019318        PTR  csv/frh04/6019318.csv  770.534653             101   \n",
      "9       6019435        RGA  csv/frh04/6019435.csv  600.625715              49   \n",
      "...         ...        ...                    ...         ...             ...   \n",
      "158327  5057907        PPH  csv/frh04/5057907.csv  633.608050              50   \n",
      "158328  5057908        MIS  csv/frh04/5057908.csv  640.096150              50   \n",
      "158330  5057910        MIS  csv/frh04/5057910.csv  662.517416              50   \n",
      "158331  5057975        MIS  csv/frh04/5057975.csv  639.764726              50   \n",
      "158332  5057976        MIS  csv/frh04/5057976.csv  648.850241              50   \n",
      "\n",
      "        classid          classname region  \n",
      "idx                                        \n",
      "0             8  temporary meadows  frh04  \n",
      "6             8  temporary meadows  frh04  \n",
      "7             8  temporary meadows  frh04  \n",
      "8             8  temporary meadows  frh04  \n",
      "9             8  temporary meadows  frh04  \n",
      "...         ...                ...    ...  \n",
      "158327        7  permanent meadows  frh04  \n",
      "158328        3               corn  frh04  \n",
      "158330        3               corn  frh04  \n",
      "158331        3               corn  frh04  \n",
      "158332        3               corn  frh04  \n",
      "\n",
      "[122614 rows x 8 columns]\n"
     ]
    }
   ],
   "source": [
    "h5path = test_ds.ds.h5path\n",
    "print(h5path)\n",
    "index = test_ds.ds.index\n",
    "print(index)"
   ]
  },
  {
   "cell_type": "code",
   "execution_count": 18,
   "metadata": {},
   "outputs": [
    {
     "name": "stdout",
     "output_type": "stream",
     "text": [
      "row:  id                              6017564\n",
      "CODE_CULTU                          PTR\n",
      "path              csv/frh04/6017564.csv\n",
      "meanCLD                      780.075742\n",
      "sequencelength                      102\n",
      "classid                               8\n",
      "classname             temporary meadows\n",
      "region                            frh04\n",
      "Name: 0, dtype: object\n",
      "dataset:  <HDF5 file \"frh04.h5\" (mode r)>\n",
      "row.path:  csv/frh04/6017564.csv\n",
      "dataset[(row.path)]:  <HDF5 dataset \"6017564.csv\": shape (102, 17), type \"<f8\">\n"
     ]
    }
   ],
   "source": [
    "j=0\n",
    "row = index.iloc[j]\n",
    "print(\"row: \", row)\n",
    "with h5py.File(h5path, \"r\") as dataset:\n",
    "    print(\"dataset: \", dataset)\n",
    "    print(\"row.path: \", row.path)\n",
    "    print(\"dataset[(row.path)]: \", dataset[(row.path)])\n",
    "    X = np.array(dataset[(row.path)])"
   ]
  },
  {
   "cell_type": "code",
   "execution_count": 15,
   "metadata": {},
   "outputs": [
    {
     "data": {
      "text/plain": [
       "array([[5.43357429e+03, 3.36485714e+01, 4.60258857e+03, ...,\n",
       "        0.00000000e+00, 1.02400000e+03, 1.48331520e+18],\n",
       "       [3.17295714e+03, 3.01085714e+01, 2.93972286e+03, ...,\n",
       "        0.00000000e+00, 1.02400000e+03, 1.48357440e+18],\n",
       "       [6.35816000e+03, 4.87482857e+02, 2.24155429e+03, ...,\n",
       "        0.00000000e+00, 1.02400000e+03, 1.48417920e+18],\n",
       "       ...,\n",
       "       [7.21186857e+03, 2.90000000e+01, 5.38022857e+03, ...,\n",
       "        0.00000000e+00, 1.02400000e+03, 1.51398720e+18],\n",
       "       [8.77835143e+03, 4.54970000e+03, 4.36862000e+03, ...,\n",
       "        0.00000000e+00, 1.02400000e+03, 1.51424640e+18],\n",
       "       [2.41632286e+03, 1.46920000e+02, 1.79072857e+03, ...,\n",
       "        0.00000000e+00, 0.00000000e+00, 1.51441920e+18]])"
      ]
     },
     "execution_count": 15,
     "metadata": {},
     "output_type": "execute_result"
    }
   ],
   "source": [
    "X"
   ]
  },
  {
   "cell_type": "code",
   "execution_count": null,
   "metadata": {},
   "outputs": [],
   "source": []
  }
 ],
 "metadata": {
  "kernelspec": {
   "display_name": "venv",
   "language": "python",
   "name": "python3"
  },
  "language_info": {
   "codemirror_mode": {
    "name": "ipython",
    "version": 3
   },
   "file_extension": ".py",
   "mimetype": "text/x-python",
   "name": "python",
   "nbconvert_exporter": "python",
   "pygments_lexer": "ipython3",
   "version": "3.11.6"
  }
 },
 "nbformat": 4,
 "nbformat_minor": 2
}
